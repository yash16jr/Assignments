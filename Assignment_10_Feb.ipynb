{
 "cells": [
  {
   "cell_type": "markdown",
   "id": "c22c6731-fb38-4f3d-bf72-08b6e9113672",
   "metadata": {},
   "source": [
    "## Ans1"
   ]
  },
  {
   "cell_type": "markdown",
   "id": "83dbd1ff-5ca3-4757-8021-7164c5e7c98a",
   "metadata": {},
   "source": [
    "To open a file in read-mode we can use:<br>\n",
    "f = open('file.txt', 'r')<br>\n",
    "And to open a file in write mode, we can use:<br>\n",
    "f = open('file.txt', 'w')"
   ]
  },
  {
   "cell_type": "markdown",
   "id": "de45c90e-c6cb-4f51-96e7-a2477a78aa91",
   "metadata": {},
   "source": [
    "## Ans2"
   ]
  },
  {
   "cell_type": "markdown",
   "id": "9d299976-3920-4bb7-ab12-08088eefec47",
   "metadata": {},
   "source": [
    "The close() function is used to close an open file in Python. When you are done reading from or writing to a file, you need to close it so that the operating system can release any resources associated with the file and so that other programs can access the file.\n",
    "\n",
    "Closing a file is important for several reasons:\n",
    "\n",
    "1)Releases resources: When a file is open, the operating system allocates resources, such as memory, to the file. If the file is not closed, those resources remain allocated even after you have finished using the file. Closing the file releases those resources back to the operating system.\n",
    "\n",
    "2)Prevents data loss: If a file is not closed properly, the contents of the file may not be flushed to disk. This means that any changes you made to the file may be lost if the program terminates or the system crashes.\n",
    "\n",
    "3)Ensures data integrity: If multiple programs are trying to access the same file at the same time, it's possible that the data in the file may become corrupted. Closing a file ensures that the data in the file is consistent and that any changes are saved properly.\n",
    "\n",
    "4)Increases system performance: If too many files are open at the same time, the system can become slow and unresponsive. Closing files when they are no longer needed helps to keep the number of open files to a minimum, which can improve system performance."
   ]
  },
  {
   "cell_type": "markdown",
   "id": "b281d01c-0d48-4d24-bb63-9e82a1ed2d81",
   "metadata": {},
   "source": [
    "## Ans3"
   ]
  },
  {
   "cell_type": "code",
   "execution_count": 5,
   "id": "07d254a3-3f77-4c93-a6de-7b158082138a",
   "metadata": {},
   "outputs": [
    {
     "name": "stdout",
     "output_type": "stream",
     "text": [
      "I want to become a data scientist\n"
     ]
    }
   ],
   "source": [
    "with open('file.txt', \"w\") as f:\n",
    "    f.write('I want to become a data scientist')\n",
    "    # file gets closed when we exit the with block\n",
    "    \n",
    "    \n",
    "with open('file.txt', 'r') as f:\n",
    "    content = f.read()\n",
    "    print(content)"
   ]
  },
  {
   "cell_type": "markdown",
   "id": "0ce07cfb-8040-4943-b019-2f35e52d2a3c",
   "metadata": {},
   "source": [
    "## Ans4"
   ]
  },
  {
   "cell_type": "code",
   "execution_count": 6,
   "id": "9377f79f-beb7-4030-a67b-7ac615da5eb6",
   "metadata": {},
   "outputs": [
    {
     "name": "stdout",
     "output_type": "stream",
     "text": [
      "I want to become a data scientist\n"
     ]
    }
   ],
   "source": [
    "#read()  The read() method reads the entire contents of a file and returns it as a single string\n",
    "\n",
    "with open('file.txt', 'r') as f:\n",
    "    content = f.read()\n",
    "    print(content)"
   ]
  },
  {
   "cell_type": "code",
   "execution_count": 8,
   "id": "5e57f100-550c-41cf-83a7-0ad79cf8dcbc",
   "metadata": {},
   "outputs": [
    {
     "name": "stdout",
     "output_type": "stream",
     "text": [
      "I want to become a data scientist\n"
     ]
    }
   ],
   "source": [
    "## readline() The readline() method reads a single line from the file and returns it as a string.\n",
    "with open('file.txt', 'r') as f:\n",
    "    content = f.readline()\n",
    "    print(content)"
   ]
  },
  {
   "cell_type": "code",
   "execution_count": 11,
   "id": "8fd222e0-9d17-44a9-a68a-4ebe9b93818a",
   "metadata": {},
   "outputs": [
    {
     "name": "stdout",
     "output_type": "stream",
     "text": [
      "['I want to become a data scientist']\n"
     ]
    }
   ],
   "source": [
    "#readlines()  The readlines() method reads all the lines of a file and returns them as a list of strings, where each string represents a single line. \n",
    "with open('file.txt', 'r') as f:\n",
    "    content = f.readlines()\n",
    "    print(content)"
   ]
  },
  {
   "cell_type": "markdown",
   "id": "d1203c2e-82dd-44fb-98ea-03ba3e6ecdd5",
   "metadata": {},
   "source": [
    "## Ans5"
   ]
  },
  {
   "cell_type": "markdown",
   "id": "b1b21e20-ccbe-4977-a461-f76d9c63cfa9",
   "metadata": {},
   "source": [
    "The with statement in Python is used to create a temporary context in which a particular resource or file is opened, operated on, and then automatically closed when the context is exited.\n",
    "\n",
    "The open() function in Python is used to open a file and return a file object that can be used to read from or write to the file.\n",
    "\n",
    "When used together, the with statement and open() function provide a convenient and safe way to open and work with files. With this combination, we don't have to worry about explicitly closing the file, which can be especially helpful if we forget to close the file or if an exception is raised while the file is being operated on."
   ]
  },
  {
   "cell_type": "markdown",
   "id": "ebea10a0-233c-4ad6-8fbe-6bd4851f5b63",
   "metadata": {},
   "source": [
    "## Ans6"
   ]
  },
  {
   "cell_type": "code",
   "execution_count": 14,
   "id": "a947482c-3423-49ed-956c-b97afc981db4",
   "metadata": {},
   "outputs": [],
   "source": [
    "\n",
    "#The write() and writelines() functions are used to write data to a file in Python.\n",
    "\n",
    "#1)write(): The write() function writes a string to the file. It takes a single string argument and writes it to the file. Here's an example:\n",
    "\n",
    "with open(\"file.txt\", \"w\") as f:\n",
    "    f.write(\"I want to become a Data Scientist\")\n",
    "\n",
    "#2)writelines(): The writelines() function writes a sequence of strings to the file. It takes a list of strings as an argument and writes each string to a separate line in the file. Here's an example:\n",
    "\n",
    "lines = [\"Line 1\", \"Line 2\", \"Line 3\"]\n",
    "with open(\"file.txt\", \"w\") as f:\n",
    "    f.writelines(lines)"
   ]
  },
  {
   "cell_type": "code",
   "execution_count": null,
   "id": "032b6250-6dd7-469e-bfbe-89a1577cb3bd",
   "metadata": {},
   "outputs": [],
   "source": []
  },
  {
   "cell_type": "code",
   "execution_count": null,
   "id": "ede45250-29b2-4e1b-87ae-0eb1adcfd3f8",
   "metadata": {},
   "outputs": [],
   "source": []
  }
 ],
 "metadata": {
  "kernelspec": {
   "display_name": "Python 3 (ipykernel)",
   "language": "python",
   "name": "python3"
  },
  "language_info": {
   "codemirror_mode": {
    "name": "ipython",
    "version": 3
   },
   "file_extension": ".py",
   "mimetype": "text/x-python",
   "name": "python",
   "nbconvert_exporter": "python",
   "pygments_lexer": "ipython3",
   "version": "3.10.8"
  }
 },
 "nbformat": 4,
 "nbformat_minor": 5
}
