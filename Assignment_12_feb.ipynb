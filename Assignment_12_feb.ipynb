{
 "cells": [
  {
   "cell_type": "markdown",
   "id": "e3836387-7191-4686-9650-ec74acb12f24",
   "metadata": {},
   "source": [
    "## Ques1."
   ]
  },
  {
   "cell_type": "markdown",
   "id": "49ef3dff-5d5f-42a9-b410-01e96df01be0",
   "metadata": {},
   "source": [
    "Q1. What is an Exception in python? Write the difference between Exceptions and syntax errors"
   ]
  },
  {
   "cell_type": "markdown",
   "id": "988eda7c-94da-42bf-b625-6880a873b7c8",
   "metadata": {},
   "source": [
    "Ans-1) An exception in Python is an event, which occurs during the execution of a program that disrupts the normal flow of the program's instructions. Exceptions are raised when a program encounters a runtime error, such as division by zero, accessing an index that is out of range, or trying to open a file that does not exist.\n",
    "\n",
    "Exceptions and syntax errors are two different types of errors in Python.\n",
    "\n",
    "A syntax error occurs when the code written is not valid according to the syntax rules of the language. For example, if you forget to close a parenthesis, or if you use the wrong type of quotes in a string, Python will raise a syntax error. These errors are usually easy to spot and fix, as they prevent the code from running.\n",
    "\n",
    "An exception, on the other hand, occurs when the code is syntactically correct but encounters an error during execution. Unlike syntax errors, exceptions can be caught and handled using try-except blocks. This allows you to write code that can gracefully handle runtime errors, making your code more robust and user-friendly."
   ]
  },
  {
   "cell_type": "markdown",
   "id": "98849e11-960a-4870-8cbf-fd53b60976e3",
   "metadata": {},
   "source": [
    "## Ques2."
   ]
  },
  {
   "cell_type": "markdown",
   "id": "7dc31387-e0d9-41be-aa8e-147d6be1b100",
   "metadata": {},
   "source": [
    "Ans-2) When an exception is not handled, the program will stop executing immediately and raise an unhandled exception. The traceback of the error will be displayed, showing the line of code that caused the exception and the type of the exception."
   ]
  },
  {
   "cell_type": "code",
   "execution_count": 22,
   "id": "ba0b44ce-f140-4cb6-8a2e-e00c0b1409af",
   "metadata": {},
   "outputs": [
    {
     "name": "stdin",
     "output_type": "stream",
     "text": [
      "Enter a number:  0\n"
     ]
    },
    {
     "name": "stdout",
     "output_type": "stream",
     "text": [
      "ERROR : division by zero\n"
     ]
    }
   ],
   "source": [
    "a = 20\n",
    "b = int(input(\"Enter a number: \"))\n",
    "try:\n",
    "    print(a / b) \n",
    "except Exception as e:\n",
    "    print('ERROR :' , e)\n",
    "       "
   ]
  },
  {
   "cell_type": "markdown",
   "id": "bb398e90-6095-424f-b2e1-32a1010b3e91",
   "metadata": {},
   "source": [
    "## Ques3."
   ]
  },
  {
   "cell_type": "markdown",
   "id": "5466e26e-3573-484a-a458-1dde2a60c1f3",
   "metadata": {},
   "source": [
    "Ans3). \n",
    "\n",
    "\n",
    "Try, Except, Else and Finally are used in python to handle exceptions."
   ]
  },
  {
   "cell_type": "code",
   "execution_count": 23,
   "id": "8f322ac1-69f7-405c-8177-eef346e5dccf",
   "metadata": {},
   "outputs": [
    {
     "name": "stdout",
     "output_type": "stream",
     "text": [
      "this block will only be executed after try has executed without any exception\n",
      " -> This will always execute <- \n"
     ]
    }
   ],
   "source": [
    "try:\n",
    "    f = open('testing.text', 'w')\n",
    "    f.write('This is line one')\n",
    "    \n",
    "except Exception as e:\n",
    "    print('ERROR:', e)\n",
    "else: \n",
    "    f.close()\n",
    "    print('this block will only be executed after try has executed without any exception')\n",
    "    \n",
    "finally :\n",
    "    print(\" -> This will always execute <- \")"
   ]
  },
  {
   "cell_type": "markdown",
   "id": "12ac55f9-5918-4a9c-8437-c79886862ada",
   "metadata": {},
   "source": [
    "## Ques4."
   ]
  },
  {
   "cell_type": "code",
   "execution_count": 24,
   "id": "482715a2-7fd8-416d-881d-942c9cc78d6d",
   "metadata": {},
   "outputs": [
    {
     "name": "stdout",
     "output_type": "stream",
     "text": [
      "this block will only be executed after try has executed without any exception\n"
     ]
    }
   ],
   "source": [
    "# Ans4).\n",
    "\n",
    "# a).try and else: \n",
    "\n",
    "try:\n",
    "    f = open('testing.text', 'w')\n",
    "    f.write('This is line one')\n",
    "    \n",
    "except Exception as e:\n",
    "    print('ERROR:', e)\n",
    "else: \n",
    "    f.close()\n",
    "    print('this block will only be executed after try has executed without any exception')"
   ]
  },
  {
   "cell_type": "code",
   "execution_count": 25,
   "id": "023bff56-6d9a-4090-97f5-5a62f7500c64",
   "metadata": {},
   "outputs": [
    {
     "name": "stdout",
     "output_type": "stream",
     "text": [
      "this block will only be executed after try has executed without any exception\n",
      " -> This will always execute <- \n"
     ]
    }
   ],
   "source": [
    "# b0. Finally\n",
    "try:\n",
    "    f = open('testing.text', 'w')\n",
    "    f.write('This is line one')\n",
    "    \n",
    "except Exception as e:\n",
    "    print('ERROR:', e)\n",
    "else: \n",
    "    f.close()\n",
    "    print('this block will only be executed after try has executed without any exception')\n",
    "    \n",
    "finally :\n",
    "    print(\" -> This will always execute <- \")"
   ]
  },
  {
   "cell_type": "code",
   "execution_count": 26,
   "id": "b74ef61f-823b-48a2-87af-58039f497850",
   "metadata": {},
   "outputs": [
    {
     "ename": "ValueError",
     "evalue": "age should not be negative",
     "output_type": "error",
     "traceback": [
      "\u001b[0;31m---------------------------------------------------------------------------\u001b[0m",
      "\u001b[0;31mValueError\u001b[0m                                Traceback (most recent call last)",
      "Cell \u001b[0;32mIn[26], line 12\u001b[0m\n\u001b[1;32m      9\u001b[0m     \u001b[38;5;28;01melse\u001b[39;00m : \n\u001b[1;32m     10\u001b[0m         \u001b[38;5;28mprint\u001b[39m(\u001b[38;5;124m'\u001b[39m\u001b[38;5;124mage is valid\u001b[39m\u001b[38;5;124m'\u001b[39m)\n\u001b[0;32m---> 12\u001b[0m \u001b[38;5;28mprint\u001b[39m(\u001b[43mvalidate_age\u001b[49m\u001b[43m(\u001b[49m\u001b[38;5;241;43m-\u001b[39;49m\u001b[38;5;241;43m5\u001b[39;49m\u001b[43m)\u001b[49m)\n\u001b[1;32m     13\u001b[0m \u001b[38;5;28mprint\u001b[39m(validate_age(\u001b[38;5;241m50\u001b[39m))\n",
      "Cell \u001b[0;32mIn[26], line 5\u001b[0m, in \u001b[0;36mvalidate_age\u001b[0;34m(age)\u001b[0m\n\u001b[1;32m      3\u001b[0m \u001b[38;5;28;01mdef\u001b[39;00m \u001b[38;5;21mvalidate_age\u001b[39m(age):\n\u001b[1;32m      4\u001b[0m     \u001b[38;5;28;01mif\u001b[39;00m age\u001b[38;5;241m<\u001b[39m\u001b[38;5;241m0\u001b[39m:\n\u001b[0;32m----> 5\u001b[0m         \u001b[38;5;28;01mraise\u001b[39;00m \u001b[38;5;167;01mValueError\u001b[39;00m(\u001b[38;5;124m\"\u001b[39m\u001b[38;5;124mage should not be negative\u001b[39m\u001b[38;5;124m\"\u001b[39m)\n\u001b[1;32m      6\u001b[0m     \u001b[38;5;28;01melif\u001b[39;00m age \u001b[38;5;241m>\u001b[39m \u001b[38;5;241m100\u001b[39m:\n\u001b[1;32m      7\u001b[0m         \u001b[38;5;28;01mraise\u001b[39;00m \u001b[38;5;167;01mValueError\u001b[39;00m(\u001b[38;5;124m'\u001b[39m\u001b[38;5;124mYou are ancient !!!\u001b[39m\u001b[38;5;124m'\u001b[39m )\n",
      "\u001b[0;31mValueError\u001b[0m: age should not be negative"
     ]
    }
   ],
   "source": [
    "# c). raise\n",
    "\n",
    "def validate_age(age):\n",
    "    if age<0:\n",
    "        raise ValueError(\"age should not be negative\")\n",
    "    elif age > 100:\n",
    "        raise ValueError('You are ancient !!!' )\n",
    "        \n",
    "    else : \n",
    "        print('age is valid')\n",
    "\n",
    "print(validate_age(-5))\n",
    "print(validate_age(50))"
   ]
  },
  {
   "cell_type": "markdown",
   "id": "26d48c00-1213-4c7f-9e51-a090a2464ad0",
   "metadata": {},
   "source": [
    "## Ques5."
   ]
  },
  {
   "cell_type": "markdown",
   "id": "34b0dfe4-7873-4a52-8360-6b4e190e08e7",
   "metadata": {},
   "source": [
    "Ans-5) Custom exceptions are user-defined exceptions that can be raised and caught just like built-in exceptions. Custom exceptions allow us to indicate specific error conditions that are relevant to your application and provide more meaningful error messages to help diagnose and fix issues."
   ]
  },
  {
   "cell_type": "code",
   "execution_count": null,
   "id": "b0ec5765-4e40-47fd-a8bf-307a5629b202",
   "metadata": {},
   "outputs": [],
   "source": [
    "class UnderAgeError(Exception):\n",
    "    pass\n",
    "\n",
    "def check_age(age):\n",
    "    if age < 18:\n",
    "        raise UnderAgeError(\"You must be at least 18 years old to use this service\")\n",
    "    print(\"Welcome!\")\n",
    "\n",
    "check_age(17)"
   ]
  },
  {
   "cell_type": "markdown",
   "id": "0fcb09c1-c7bf-488d-9a69-8ca17d57ba7e",
   "metadata": {},
   "source": [
    "## Ques6."
   ]
  },
  {
   "cell_type": "code",
   "execution_count": null,
   "id": "b7aab15f-b088-408e-a451-5eb034f67e23",
   "metadata": {},
   "outputs": [],
   "source": [
    "class cust_except(Exception):\n",
    "    def __init__(self, message):\n",
    "        self.message = message\n",
    "        \n",
    "try :\n",
    "    raise cust_except(\"This is a custom exception\")\n",
    "except Exception as e:\n",
    "    print('ERROR :' ,e)"
   ]
  },
  {
   "cell_type": "code",
   "execution_count": null,
   "id": "669b3c8a-58a4-4ed6-b4d4-1d229e80ed12",
   "metadata": {},
   "outputs": [],
   "source": []
  },
  {
   "cell_type": "code",
   "execution_count": null,
   "id": "bf3a4cd9-5061-46b1-80c2-baaf2e1ffd47",
   "metadata": {},
   "outputs": [],
   "source": []
  }
 ],
 "metadata": {
  "kernelspec": {
   "display_name": "Python 3 (ipykernel)",
   "language": "python",
   "name": "python3"
  },
  "language_info": {
   "codemirror_mode": {
    "name": "ipython",
    "version": 3
   },
   "file_extension": ".py",
   "mimetype": "text/x-python",
   "name": "python",
   "nbconvert_exporter": "python",
   "pygments_lexer": "ipython3",
   "version": "3.10.8"
  }
 },
 "nbformat": 4,
 "nbformat_minor": 5
}
