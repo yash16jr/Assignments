{
 "cells": [
  {
   "cell_type": "markdown",
   "id": "228935e9-43ff-4ccd-a07c-0d1ff0d0d2d1",
   "metadata": {},
   "source": [
    "## Ans1"
   ]
  },
  {
   "cell_type": "markdown",
   "id": "8111e5b9-e373-40a8-8c59-ef58f38596c5",
   "metadata": {},
   "source": [
    "Explain why we have to use the Exception class while creating a Custom Exception."
   ]
  },
  {
   "cell_type": "markdown",
   "id": "fd2f4cea-304a-4287-a9c2-0ee0d66d5731",
   "metadata": {},
   "source": [
    "The reason for using the Exception class as the base class is that it provides a set of methods and properties that are common to all exceptions, such as the ability to set an error message and retrieve the traceback information. By inheriting from the Exception class, we can leverage these methods and properties and customize our exception as per our requirement."
   ]
  },
  {
   "cell_type": "markdown",
   "id": "a798bfab-2dfc-46d8-a594-9029ad3d86e8",
   "metadata": {},
   "source": [
    "## Ans2"
   ]
  },
  {
   "cell_type": "code",
   "execution_count": 1,
   "id": "4408ed5d-30d1-489a-b29e-592cc7112be6",
   "metadata": {},
   "outputs": [],
   "source": [
    "import logging"
   ]
  },
  {
   "cell_type": "code",
   "execution_count": 2,
   "id": "8ec3bdd5-8bc6-4f8e-baa0-0fb0c4756cb2",
   "metadata": {},
   "outputs": [],
   "source": [
    "logging.basicConfig(filename= 'test1.log', level = logging.DEBUG, format = '%(asctime)s:%(levelname)s:%(message)s')\n",
    "class Exception_hierarchy:\n",
    "    def print_hierarchy(self, exception_class = Exception ,level = 0):\n",
    "        logging.info(' '* level + exception_class.__name__)\n",
    "        for subclass in exception_class.__subclasses__():\n",
    "            self.print_hierarchy(subclass, level + 1)\n",
    "  \n"
   ]
  },
  {
   "cell_type": "code",
   "execution_count": 3,
   "id": "319d4afb-35d7-422d-8ac9-56fd64921c10",
   "metadata": {},
   "outputs": [],
   "source": [
    "if __name__ == '__main__': \n",
    "    hierarchy = Exception_hierarchy() \n",
    "    hierarchy.print_hierarchy() "
   ]
  },
  {
   "cell_type": "markdown",
   "id": "604e4be1-03d5-437b-b89d-339e7bfcd97d",
   "metadata": {},
   "source": [
    "## Ans3"
   ]
  },
  {
   "cell_type": "markdown",
   "id": "4c5062a0-090d-4b00-8451-943797995fe2",
   "metadata": {},
   "source": [
    "The ArithmeticError class is a base class for errors that occur during arithmetic operations. It is a subclass of the Exception class and is used as a base class for more specific arithmetic errors."
   ]
  },
  {
   "cell_type": "code",
   "execution_count": 4,
   "id": "f1e7b801-3753-4a55-bf60-56f16ad5f217",
   "metadata": {},
   "outputs": [],
   "source": [
    "try : \n",
    "    a = 10\n",
    "    b = 0\n",
    "    a/b\n",
    "except ZeroDivisionError:\n",
    "    logging.error(\"Division by zero is not allowed\")"
   ]
  },
  {
   "cell_type": "code",
   "execution_count": 5,
   "id": "f778da8d-3fff-4848-8bb8-2bd936905997",
   "metadata": {},
   "outputs": [],
   "source": [
    "try:\n",
    "    str1 = \"Hello\"\n",
    "    str2 = \"Welcome\"\n",
    "    str1 * str2\n",
    "except TypeError:\n",
    "    logging.error(\"Invalid operand type\")"
   ]
  },
  {
   "cell_type": "markdown",
   "id": "ff8f8248-5122-4ee5-9da2-1a8b27a05e0a",
   "metadata": {},
   "source": [
    "## Ans4"
   ]
  },
  {
   "cell_type": "markdown",
   "id": "82f52f79-b39e-4336-8162-3ae6baaefc43",
   "metadata": {},
   "source": [
    "The LookupError class is a base class for errors that occur when a key or index is not found in a mapping or sequence, respectively. It is a subclass of the Exception class and is used as a base class for more specific lookup errors, such as KeyError and IndexError.\n"
   ]
  },
  {
   "cell_type": "code",
   "execution_count": 6,
   "id": "678a0ef7-dc31-4a9b-a319-97913771cb52",
   "metadata": {},
   "outputs": [],
   "source": [
    "try: \n",
    "    dict1 = {'a' : 1, 'b' : 2}\n",
    "    print (dict1['e'])\n",
    "except KeyError:\n",
    "    logging.error(\"The key is invalid\")\n",
    "    "
   ]
  },
  {
   "cell_type": "code",
   "execution_count": 7,
   "id": "6255d5be-032a-4ae4-9548-8aae583abb41",
   "metadata": {},
   "outputs": [],
   "source": [
    "try: \n",
    "    list1 = [1,2,3]\n",
    "    print(list1[5])\n",
    "except IndexError:\n",
    "    logging.error(\"Index out of bounds\")"
   ]
  },
  {
   "cell_type": "markdown",
   "id": "994a8e83-1a9a-4dc9-bc85-ecaaa0e0aa4d",
   "metadata": {},
   "source": [
    "## Ans5"
   ]
  },
  {
   "cell_type": "markdown",
   "id": "2a7ec588-8de1-4083-bc62-6205a48b11fb",
   "metadata": {},
   "source": [
    "ImportError is a Python exception that occurs when a module or package could not be imported. This can happen for various reasons, such as a misspelled module name, a missing or broken module file, or an error in the module code.<br>\n",
    "ModuleNotFoundError is a more specific type of ImportError . It is raised when a module could not be found at import time, indicating that the specified module does not exist or is not installed.\n"
   ]
  },
  {
   "cell_type": "code",
   "execution_count": 8,
   "id": "8a31843d-5d32-474f-9dfe-e7f17506489f",
   "metadata": {},
   "outputs": [],
   "source": [
    "try: \n",
    "    import incorrect_name_module\n",
    "except ImportError:\n",
    "    logging.error(\"Module could not be imported\")"
   ]
  },
  {
   "cell_type": "code",
   "execution_count": 9,
   "id": "63f93127-3bc2-4f64-85d0-43fabce0245c",
   "metadata": {},
   "outputs": [],
   "source": [
    "try:\n",
    "    import non_existent_module\n",
    "except ModuleNotFoundError:\n",
    "    logging.error(\"Module not found\")"
   ]
  },
  {
   "cell_type": "markdown",
   "id": "936554c4-80c1-4661-a234-363f9317213e",
   "metadata": {},
   "source": [
    "## Ans6"
   ]
  },
  {
   "cell_type": "markdown",
   "id": "1c86e803-f25f-4d7a-8236-9de07a5c5b71",
   "metadata": {},
   "source": [
    "Handle specific exceptions <br>\n",
    "Use try-except blocks sparingly<br>\n",
    "Avoid catching and ignoring exceptions<br>\n",
    "Keep error messages informative<br>\n",
    "Reraise exceptions selectively<br>\n",
    "Clean up after exceptions <br>\n",
    "Use context managers"
   ]
  },
  {
   "cell_type": "code",
   "execution_count": null,
   "id": "de11eadc-2a94-41e1-875f-3c419b3405fe",
   "metadata": {},
   "outputs": [],
   "source": []
  },
  {
   "cell_type": "code",
   "execution_count": null,
   "id": "536399f5-1165-45de-9123-4c19355af1a9",
   "metadata": {},
   "outputs": [],
   "source": []
  }
 ],
 "metadata": {
  "kernelspec": {
   "display_name": "Python 3 (ipykernel)",
   "language": "python",
   "name": "python3"
  },
  "language_info": {
   "codemirror_mode": {
    "name": "ipython",
    "version": 3
   },
   "file_extension": ".py",
   "mimetype": "text/x-python",
   "name": "python",
   "nbconvert_exporter": "python",
   "pygments_lexer": "ipython3",
   "version": "3.10.8"
  }
 },
 "nbformat": 4,
 "nbformat_minor": 5
}
