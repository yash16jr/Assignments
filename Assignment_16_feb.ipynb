{
 "cells": [
  {
   "cell_type": "markdown",
   "id": "a6efb0ca-98b3-46f0-b25c-adcabc730485",
   "metadata": {},
   "source": [
    "## Ans1"
   ]
  },
  {
   "cell_type": "markdown",
   "id": "43712934-7be3-450a-92d5-3ed90f03d955",
   "metadata": {},
   "source": [
    "SQL databases are relational databases that store data in tables with rows and columns. They use a structured query language (SQL) to manipulate and retrieve data. SQL databases are widely used and are known for their reliability, stability, and consistency. They are ideal for applications that require complex data modeling and transactions, such as financial systems, e-commerce sites, and inventory management systems.<br><br>\n",
    "NoSQL databases are non-relational databases that do not use a fixed schema like SQL databases. Instead, they store data in documents, key-value pairs, or graphs. They are designed to handle large volumes of unstructured and semi-structured data, making them ideal for big data applications. NoSQL databases are also highly scalable, which means they can easily handle increases in data volume and traffic. Examples of NoSQL databases include MongoDB, Cassandra, and Amazon DynamoDB."
   ]
  },
  {
   "cell_type": "markdown",
   "id": "3866745e-99cc-4004-b388-ab50cbc78071",
   "metadata": {},
   "source": [
    "## Ans2"
   ]
  },
  {
   "cell_type": "markdown",
   "id": "b5bf0f48-8838-4e81-b596-16b5260933b2",
   "metadata": {},
   "source": [
    "DDL stands for data definition language , it is a subset of SQL that is used to define and manipulate the structure of a database. DDL statements are used to create, alter, and drop database objects such as tables, indexes, and views.<br>\n",
    "CREATE: The CREATE statement is used to create new database objects such as tables, indexes, and views<br>\n",
    "### Example:<br>\n",
    "CREATE TABLE customers (\n",
    "   id INT PRIMARY KEY,\n",
    "   name VARCHAR(50),\n",
    "   email VARCHAR(50)\n",
    ");<br>\n",
    "DROP: The DROP statement is used to remove a database object such as a table, index, or view.<br>\n",
    "### Example:<br>\n",
    "DROP TABLE customers;<br>\n",
    "The ALTER statement is used to modify the structure of an existing database object such as a table or index.<br>\n",
    "### Example:<br>\n",
    "ALTER TABLE customers ADD COLUMN phone VARCHAR(20);<br>\n",
    "The TRUNCATE statement is used to remove all the data from a table. It is similar to the DELETE statement but is faster because it does not log the individual row deletions<br>\n",
    "### Example:<br>\n",
    "TRUNCATE TABLE customers;\n"
   ]
  },
  {
   "cell_type": "markdown",
   "id": "cbafed7a-4bb4-4a91-b5fa-89a8b3f826e1",
   "metadata": {},
   "source": [
    "## Ans3"
   ]
  },
  {
   "cell_type": "markdown",
   "id": "d85d48a9-4c0a-422d-9a4a-e66c22bca6e9",
   "metadata": {},
   "source": [
    "DML (Data Manipulation Language) is a subset of SQL that is used to manipulate the data stored in a database. DML statements are used to insert, update, and delete data in tables.<br>\n",
    "INSERT: The INSERT statement is used to add new data into a table<br>\n",
    "Example<br>\n",
    "INSERT INTO customersINSERT INTO customers (id, name, email) VALUES (1, 'Yash', 'yash@example.com');\n",
    " (id, name, email) VALUES (1, 'Yash', 'yash@example.com');<br>\n",
    "UPDATE: The UPDATE statement is used to modify existing data in a table.<br>\n",
    "Example<br>\n",
    "UPDATE customers SET email = 'yash@example.com' WHERE id = 1;<br>\n",
    "DELETE: The DELETE statement is used to remove data from a table<br>\n",
    "Example<br>\n",
    "DELETE FROM customers WHERE id = 1;"
   ]
  },
  {
   "cell_type": "markdown",
   "id": "12832c23-9785-40d6-94be-0c4a57fa4802",
   "metadata": {},
   "source": [
    "## Ans4"
   ]
  },
  {
   "cell_type": "markdown",
   "id": "38b57191-b760-4f34-ae34-4639b28914d5",
   "metadata": {},
   "source": [
    "DQL stands for Data Query Language, which is a subset of SQL (Structured Query Language) used to retrieve data from a database. DQL statements are used to query a database and retrieve the information stored in the tables.\n",
    "\n",
    "The main DQL statement is SELECT, which is used to retrieve data from one or more tables in a database.Example :<br>\n",
    "SELECT * FROM customers;"
   ]
  },
  {
   "cell_type": "markdown",
   "id": "43ad17fc-5ced-4c73-9830-d250f3bf28d0",
   "metadata": {},
   "source": [
    "## Ans5"
   ]
  },
  {
   "cell_type": "markdown",
   "id": "865277b6-f596-4810-9b65-64a223763078",
   "metadata": {},
   "source": [
    "Primary Key:\n",
    "A primary key is a column or set of columns in a table that uniquely identifies each row in that table. The primary key constraint ensures that the values in the column(s) are unique and cannot be null. The primary key is used to create relationships between tables and is used as a reference by foreign keys in other tables. For example, in a table of customers, the customer ID might be the primary key, as each customer would have a unique ID.\n",
    "\n",
    "Foreign Key:\n",
    "A foreign key is a column or set of columns in one table that refers to the primary key in another table. It is used to establish a relationship between two tables. The foreign key constraint ensures that the values in the column(s) must exist in the referenced primary key column of another table, or must be null. For example, in a table of orders, there might be a foreign key that refers to the primary key of the customers table, indicating which customer placed the order."
   ]
  },
  {
   "cell_type": "markdown",
   "id": "9a9f5cfa-4efb-44c4-9974-6b9a7a04f192",
   "metadata": {},
   "source": [
    "## Ans6"
   ]
  },
  {
   "cell_type": "code",
   "execution_count": null,
   "id": "b4df3dac-ee9c-4dd4-979a-57c47c1e2c47",
   "metadata": {},
   "outputs": [],
   "source": [
    "import mysql.connector\n",
    "\n",
    "mydb = mysql.connector.connect(\n",
    "  host=\"localhost\",\n",
    "  user=\"root\",\n",
    "  password=\"yash\",\n",
    "  database=\"sakila\"\n",
    ")\n",
    "\n",
    "mycursor = mydb.cursor()\n",
    "\n",
    "mycursor.execute(\"SELECT * FROM language\")\n",
    "\n",
    "results = mycursor.fetchall()\n",
    "\n",
    "for row in results:\n",
    "    print(row)"
   ]
  },
  {
   "cell_type": "markdown",
   "id": "1a268738-ff39-4ec1-82ab-60f9ac515d41",
   "metadata": {},
   "source": [
    "## Ans7"
   ]
  },
  {
   "cell_type": "markdown",
   "id": "eb4b14d5-ad4f-48a0-8846-dd22d69d65c2",
   "metadata": {},
   "source": [
    "The order of execution of SQL clauses is:<br>\n",
    "\n",
    "FROM: The FROM clause specifies the table or tables from which data is being retrieved.\n",
    "\n",
    "JOIN: The JOIN clause is used to combine rows from two or more tables based on a related column between them.\n",
    "\n",
    "WHERE: The WHERE clause is used to filter rows based on a specified condition.\n",
    "\n",
    "GROUP BY: The GROUP BY clause is used to group rows that have the same values into summary rows.\n",
    "\n",
    "HAVING: The HAVING clause is used to filter the groups that are created by the GROUP BY clause.\n",
    "\n",
    "SELECT: The SELECT clause is used to select specific columns or expressions from the tables.\n",
    "\n",
    "DISTINCT: The DISTINCT keyword is used to remove duplicates from the result set.\n",
    "\n",
    "ORDER BY: The ORDER BY clause is used to sort the result set based on one or more columns.\n",
    "\n",
    "LIMIT: The LIMIT clause is used to limit the number of rows returned by the query."
   ]
  },
  {
   "cell_type": "code",
   "execution_count": null,
   "id": "6ea30c02-285b-49cb-90d6-0947cbe0f764",
   "metadata": {},
   "outputs": [],
   "source": []
  }
 ],
 "metadata": {
  "kernelspec": {
   "display_name": "Python 3 (ipykernel)",
   "language": "python",
   "name": "python3"
  },
  "language_info": {
   "codemirror_mode": {
    "name": "ipython",
    "version": 3
   },
   "file_extension": ".py",
   "mimetype": "text/x-python",
   "name": "python",
   "nbconvert_exporter": "python",
   "pygments_lexer": "ipython3",
   "version": "3.10.8"
  }
 },
 "nbformat": 4,
 "nbformat_minor": 5
}
