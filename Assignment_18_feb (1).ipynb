{
 "cells": [
  {
   "cell_type": "markdown",
   "id": "9636b371-8ee4-4ea0-a18a-5a514180a660",
   "metadata": {},
   "source": [
    "## Ques1."
   ]
  },
  {
   "cell_type": "markdown",
   "id": "b8a5c661-1c9d-4b84-8e0b-4b4aaa25e354",
   "metadata": {},
   "source": [
    "Q1. What is an API? Give an example, where an API is used in real life."
   ]
  },
  {
   "cell_type": "markdown",
   "id": "f142209c-fbb9-427e-9e5d-969674ac3d73",
   "metadata": {},
   "source": [
    "Ans1. API stands for Application Programming Interface. It acts as a birdge or a conenction between two applications. It follows a set  of rules and protocols that define how 2 applications communicate with each other. APIs are used in our day to day tasks for eg. Google search. It uses apis to connect to different servers on the web to fetch the required information through APIs."
   ]
  },
  {
   "cell_type": "markdown",
   "id": "c74bc94c-292f-4eb8-80af-37c5749fbeb0",
   "metadata": {},
   "source": [
    "## Ques2."
   ]
  },
  {
   "cell_type": "markdown",
   "id": "2b32299e-367b-461f-9e1b-d6909ba2cbb3",
   "metadata": {},
   "source": [
    "Q2. Give advantages and disadvantages of using API."
   ]
  },
  {
   "cell_type": "markdown",
   "id": "02610143-ad06-4bfa-8e86-6818c2173137",
   "metadata": {},
   "source": [
    "Ans-2. Advantages of using API:\n",
    "\n",
    "Simplified development process: APIs abstract the complexity of underlying systems, which can make the development process easier and faster for developers. By using an API, developers can focus on building features and functionality that add value to their application, rather than worrying about how to communicate with other systems.\n",
    "\n",
    "Efficiency: APIs allow developers to reuse code and functionality across different applications, which can make the development process more efficient. For example, instead of building a payment processing system from scratch, a developer can use a payment processing API to handle that functionality.\n",
    "\n",
    "Integration: APIs allow different software systems to integrate and work together seamlessly. This can enable developers to build more powerful and sophisticated applications that leverage the capabilities of multiple systems.\n",
    "\n",
    "Scalability: APIs can be designed to scale to handle large volumes of requests, which makes them well-suited for building high-traffic applications.\n",
    "\n",
    "Disadvantages of using API:\n",
    "\n",
    "Security risks: APIs can be a security risk if they are not properly secured. API vulnerabilities can be exploited by attackers to gain unauthorized access to data or systems.\n",
    "\n",
    "Dependence on third-party providers: When using third-party APIs, developers are dependent on the availability and reliability of those APIs. If the API goes down or is unavailable, it can affect the functionality of the application.\n",
    "\n",
    "Compatibility: Different APIs may use different protocols or data formats, which can make it difficult to integrate different systems. Developers need to ensure that the APIs they are using are compatible with their application.\n",
    "\n",
    "Cost: Some APIs may come with a cost or usage limits, which can be a barrier to entry for developers who are building applications with limited resources.\n"
   ]
  },
  {
   "cell_type": "markdown",
   "id": "253aeb9a-b18f-4d33-baad-d950f2c0cc34",
   "metadata": {},
   "source": [
    "## Ques3."
   ]
  },
  {
   "cell_type": "markdown",
   "id": "be3acff7-3357-45a5-b6ba-dbf6c5e28b39",
   "metadata": {},
   "source": [
    "Q3. What is a Web API? Differentiate between API and Web API."
   ]
  },
  {
   "cell_type": "markdown",
   "id": "cadf4a74-3ac5-4c89-8d62-64e9ff3aa63b",
   "metadata": {},
   "source": [
    "Ans-3. A Web API is a type of API that is designed specifically for use in web-based applications. A Web API is accessed using HTTP protocols and can be used to expose the functionality of a web application to other software systems.\n",
    "\n",
    "Differences between API and Web API:\n",
    "\n",
    "APIs can be designed for any software system, whereas Web APIs are specifically designed for web-based applications.\n",
    "\n",
    "APIs can use a variety of protocols, whereas Web APIs are accessed using HTTP protocols.\n",
    "\n",
    " APIs can use a variety of data formats, whereas Web APIs often use JSON or XML to transmit data.\n",
    "\n",
    "APIs can be used for a variety of purposes, such as accessing hardware devices, databases, or operating system functionality. Web APIs are specifically designed to provide programmatic access to web-based applications.\n"
   ]
  },
  {
   "cell_type": "markdown",
   "id": "c0539749-8bf3-4507-b260-97b1c60eeea6",
   "metadata": {},
   "source": [
    "## Ques4."
   ]
  },
  {
   "cell_type": "markdown",
   "id": "d5577f1a-e034-47d6-9273-63864351d6fc",
   "metadata": {},
   "source": [
    "Q4. Explain REST and SOAP Architecture. Mention shortcomings of SOAP."
   ]
  },
  {
   "cell_type": "markdown",
   "id": "a87ac6cd-fdb0-4dc0-a973-71fb20600ef6",
   "metadata": {},
   "source": [
    "Ans4. REST (Representational State Transfer) Architecture:\n",
    "REST is a software architectural style that is used for designing web services. REST is based on the HTTP protocol, and it uses HTTP methods GET, POST, PUT, DELETE to manipulate resources that are identified by URIs. RESTful APIs are designed to be stateless and cacheable, and they use common data formats such as JSON and XML to represent data. REST is known for being lightweight, scalable, and easy to understand.\n",
    "\n",
    "SOAP (Simple Object Access Protocol) Architecture:\n",
    "SOAP is a messaging protocol that is used for exchanging structured information between web services. SOAP messages are typically formatted in XML, and they are sent over HTTP or other communication protocols. SOAP is a more complex architecture than REST, and it uses a messaging model that includes an envelope, a header, and a body. SOAP supports more advanced features than REST, such as transactions and security, but it is also slower and more resource-intensive\n",
    "\n",
    "Shortcomings of SOAP:\n",
    "\n",
    "SOAP is a more complex architecture than REST, and it requires more resources to implement and maintain.\n",
    "\n",
    "SOAP messages are typically larger than REST messages, which can impact performance and require more bandwidth.\n",
    "\n",
    "SOAP uses its own set of standards and protocols, which can make it less compatible with other web standards.\n",
    "\n",
    "SOAP is more rigid in its approach to web services, which can make it less flexible than REST."
   ]
  },
  {
   "cell_type": "markdown",
   "id": "bac75ccf-2ce2-45c2-b3f6-fa2c53173286",
   "metadata": {},
   "source": [
    "## Ques5."
   ]
  },
  {
   "cell_type": "markdown",
   "id": "7cebb58c-39ab-470b-9b8c-75e8bb69ce5b",
   "metadata": {},
   "source": [
    "Q5. Differentiate between REST and SOAP."
   ]
  },
  {
   "cell_type": "markdown",
   "id": "ae8cc0b5-e305-4758-b28a-3e350b40ee1d",
   "metadata": {},
   "source": [
    "Ans5.\n",
    "Protocol: REST uses HTTP protocols, while SOAP uses its own messaging protocol.\n",
    "\n",
    "Data Format: REST uses JSON or XML data formats, while SOAP messages are always in XML.\n",
    "\n",
    "Architecture: REST is a simpler and more lightweight architecture, while SOAP is a more complex and heavyweight architecture.\n",
    "\n",
    "Approach: REST uses a resource-based approach, while SOAP uses a messaging-based approach.\n",
    "\n",
    "Statelessness: REST is designed to be stateless, while SOAP can maintain state between requests.\n",
    "\n",
    "Performance: REST is generally faster and more scalable than SOAP.\n",
    "\n",
    "Compatibility: REST is more compatible with modern web standards and architectures, while SOAP is less flexible and more rigid in its approach."
   ]
  },
  {
   "cell_type": "code",
   "execution_count": null,
   "id": "13dbe73a-8ef5-4f81-b4f5-fa0ff0708952",
   "metadata": {},
   "outputs": [],
   "source": []
  }
 ],
 "metadata": {
  "kernelspec": {
   "display_name": "Python 3 (ipykernel)",
   "language": "python",
   "name": "python3"
  },
  "language_info": {
   "codemirror_mode": {
    "name": "ipython",
    "version": 3
   },
   "file_extension": ".py",
   "mimetype": "text/x-python",
   "name": "python",
   "nbconvert_exporter": "python",
   "pygments_lexer": "ipython3",
   "version": "3.10.8"
  }
 },
 "nbformat": 4,
 "nbformat_minor": 5
}
