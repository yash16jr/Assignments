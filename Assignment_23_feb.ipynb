{
 "cells": [
  {
   "cell_type": "markdown",
   "id": "5166a51f-2662-4e2f-80c8-fb9c3450d96d",
   "metadata": {},
   "source": [
    "## Ques1."
   ]
  },
  {
   "cell_type": "markdown",
   "id": "1a46f2bc-2c90-42bd-b37c-e133f051a84b",
   "metadata": {},
   "source": [
    "Q1. Create a Pandas Series that contains the following data: 4, 8, 15, 16, 23, and 42. Then, print the series."
   ]
  },
  {
   "cell_type": "code",
   "execution_count": 13,
   "id": "71db12d7-240d-46f5-98bd-b86f3df2fb1a",
   "metadata": {},
   "outputs": [
    {
     "data": {
      "text/plain": [
       "0     4\n",
       "1     8\n",
       "2    15\n",
       "3    16\n",
       "4    23\n",
       "5    42\n",
       "dtype: int64"
      ]
     },
     "execution_count": 13,
     "metadata": {},
     "output_type": "execute_result"
    }
   ],
   "source": [
    "import pandas as pd\n",
    "data = [4,8,15,16,23,42]\n",
    "series = pd.Series(data)\n",
    "series"
   ]
  },
  {
   "cell_type": "markdown",
   "id": "5526abc1-69d5-4e8c-a46c-9071318c3690",
   "metadata": {},
   "source": [
    "## Ques2."
   ]
  },
  {
   "cell_type": "markdown",
   "id": "7532a789-8ab6-462d-a597-8325d9ea9b0e",
   "metadata": {},
   "source": [
    "Q2. Create a variable of list type containing 10 elements in it, and apply pandas.Series function on the\n",
    "variable print it."
   ]
  },
  {
   "cell_type": "code",
   "execution_count": 14,
   "id": "35a99b3c-9356-4f01-bb47-ad62f50ae68d",
   "metadata": {},
   "outputs": [
    {
     "data": {
      "text/plain": [
       "0     1\n",
       "1     2\n",
       "2     3\n",
       "3     4\n",
       "4     5\n",
       "5     6\n",
       "6     7\n",
       "7     8\n",
       "8     9\n",
       "9    10\n",
       "dtype: int64"
      ]
     },
     "execution_count": 14,
     "metadata": {},
     "output_type": "execute_result"
    }
   ],
   "source": [
    "lst = [1,2,3,4,5,6,7,8,9,10]\n",
    "series = pd.Series(lst)\n",
    "series"
   ]
  },
  {
   "cell_type": "markdown",
   "id": "7e012331-d0b7-4eae-9bf7-2e2b89c6f78f",
   "metadata": {},
   "source": [
    "## Ques3."
   ]
  },
  {
   "cell_type": "code",
   "execution_count": 15,
   "id": "8e8638e0-b74c-4d9e-b266-40a849796915",
   "metadata": {},
   "outputs": [
    {
     "data": {
      "text/html": [
       "<div>\n",
       "<style scoped>\n",
       "    .dataframe tbody tr th:only-of-type {\n",
       "        vertical-align: middle;\n",
       "    }\n",
       "\n",
       "    .dataframe tbody tr th {\n",
       "        vertical-align: top;\n",
       "    }\n",
       "\n",
       "    .dataframe thead th {\n",
       "        text-align: right;\n",
       "    }\n",
       "</style>\n",
       "<table border=\"1\" class=\"dataframe\">\n",
       "  <thead>\n",
       "    <tr style=\"text-align: right;\">\n",
       "      <th></th>\n",
       "      <th>Name</th>\n",
       "      <th>Age</th>\n",
       "      <th>Gender</th>\n",
       "    </tr>\n",
       "  </thead>\n",
       "  <tbody>\n",
       "    <tr>\n",
       "      <th>0</th>\n",
       "      <td>Alice</td>\n",
       "      <td>25</td>\n",
       "      <td>Female</td>\n",
       "    </tr>\n",
       "    <tr>\n",
       "      <th>1</th>\n",
       "      <td>Bob</td>\n",
       "      <td>30</td>\n",
       "      <td>Male</td>\n",
       "    </tr>\n",
       "    <tr>\n",
       "      <th>2</th>\n",
       "      <td>Claire</td>\n",
       "      <td>27</td>\n",
       "      <td>Female</td>\n",
       "    </tr>\n",
       "  </tbody>\n",
       "</table>\n",
       "</div>"
      ],
      "text/plain": [
       "     Name  Age  Gender\n",
       "0   Alice   25  Female\n",
       "1     Bob   30    Male\n",
       "2  Claire   27  Female"
      ]
     },
     "execution_count": 15,
     "metadata": {},
     "output_type": "execute_result"
    }
   ],
   "source": [
    "data = {\n",
    "'Name' : ['Alice','Bob','Claire'],\n",
    "'Age' : [25,30,27],\n",
    "'Gender' : ['Female', 'Male', 'Female']\n",
    "}\n",
    "df = pd.DataFrame(data)\n",
    "df"
   ]
  },
  {
   "cell_type": "markdown",
   "id": "7671c298-567c-4299-86bf-c3597f338a9a",
   "metadata": {},
   "source": [
    "## Ques4."
   ]
  },
  {
   "cell_type": "markdown",
   "id": "3755dc6a-4cc0-42c3-ab1d-e966170fbe31",
   "metadata": {},
   "source": [
    "Q4. What is ‘DataFrame’ in pandas and how is it different from pandas.series? Explain with an example."
   ]
  },
  {
   "cell_type": "markdown",
   "id": "5289df39-4dab-4705-9b88-fbc23ef04c9d",
   "metadata": {},
   "source": [
    "In Pandas, a DataFrame is a two-dimensional size-mutable, tabular data structure with columns and rows. It is a fundamental data structure for data analysis in Pandas, and it allows users to handle and manipulate data in a flexible and intuitive way. Each column of a DataFrame is a Series object in Pandas.\n",
    "\n",
    "A Series is a one-dimensional labeled array that can contain any data type. It is similar to a column in a spreadsheet or a database table. A DataFrame can be thought of as a collection of Series objects where each column represents a Series."
   ]
  },
  {
   "cell_type": "code",
   "execution_count": 16,
   "id": "ab6a41b7-a353-4d06-afde-bf63ffda05d7",
   "metadata": {},
   "outputs": [
    {
     "data": {
      "text/plain": [
       "0     cars\n",
       "1    bikes\n",
       "2    boats\n",
       "dtype: object"
      ]
     },
     "execution_count": 16,
     "metadata": {},
     "output_type": "execute_result"
    }
   ],
   "source": [
    "## Series\n",
    "\n",
    "data_series = pd.Series(['cars', 'bikes', 'boats'])\n",
    "data_series"
   ]
  },
  {
   "cell_type": "code",
   "execution_count": 17,
   "id": "cff6b853-906b-464e-bfaf-9ae9fc94be6c",
   "metadata": {},
   "outputs": [
    {
     "data": {
      "text/html": [
       "<div>\n",
       "<style scoped>\n",
       "    .dataframe tbody tr th:only-of-type {\n",
       "        vertical-align: middle;\n",
       "    }\n",
       "\n",
       "    .dataframe tbody tr th {\n",
       "        vertical-align: top;\n",
       "    }\n",
       "\n",
       "    .dataframe thead th {\n",
       "        text-align: right;\n",
       "    }\n",
       "</style>\n",
       "<table border=\"1\" class=\"dataframe\">\n",
       "  <thead>\n",
       "    <tr style=\"text-align: right;\">\n",
       "      <th></th>\n",
       "      <th>Vehicle</th>\n",
       "      <th>Total_num</th>\n",
       "    </tr>\n",
       "  </thead>\n",
       "  <tbody>\n",
       "    <tr>\n",
       "      <th>0</th>\n",
       "      <td>cars</td>\n",
       "      <td>12</td>\n",
       "    </tr>\n",
       "    <tr>\n",
       "      <th>1</th>\n",
       "      <td>bikes</td>\n",
       "      <td>13</td>\n",
       "    </tr>\n",
       "    <tr>\n",
       "      <th>2</th>\n",
       "      <td>boats</td>\n",
       "      <td>14</td>\n",
       "    </tr>\n",
       "  </tbody>\n",
       "</table>\n",
       "</div>"
      ],
      "text/plain": [
       "  Vehicle  Total_num\n",
       "0    cars         12\n",
       "1   bikes         13\n",
       "2   boats         14"
      ]
     },
     "execution_count": 17,
     "metadata": {},
     "output_type": "execute_result"
    }
   ],
   "source": [
    "## Dataframe\n",
    "data_frame = pd.DataFrame({'Vehicle' : ['cars', 'bikes' , 'boats'],\n",
    "                          'Total_num' : [12,13,14]}) \n",
    "data_frame\n"
   ]
  },
  {
   "cell_type": "markdown",
   "id": "a06951c8-800a-41fa-b05a-eb72b07d4edf",
   "metadata": {},
   "source": [
    "## Ques5."
   ]
  },
  {
   "cell_type": "markdown",
   "id": "da603ec8-5d20-456a-ab08-3f574f0dacef",
   "metadata": {},
   "source": [
    "Q5. What are some common functions you can use to manipulate data in a Pandas DataFrame? Can\n",
    "you give an example of when you might use one of these functions?"
   ]
  },
  {
   "cell_type": "markdown",
   "id": "b2ddb297-e02a-4651-ace4-9ce2007c46fc",
   "metadata": {},
   "source": [
    "Some functions to manipulate data in a DataFrame are head(), tail(), describe(), groupby(), pivot_table(), fillna(), dropna(), and sort_values()."
   ]
  },
  {
   "cell_type": "markdown",
   "id": "8317dfa7-fa4b-4af1-a303-3b3878f88f97",
   "metadata": {},
   "source": [
    "Example: We can use head() function when we want to display top 5 records(by default) from the starting of the dataframe"
   ]
  },
  {
   "cell_type": "markdown",
   "id": "9a51ee24-acc3-4d5d-93f5-34b156e01884",
   "metadata": {},
   "source": [
    "## Ques6."
   ]
  },
  {
   "cell_type": "markdown",
   "id": "b17a1717-c926-456f-b593-fd91776bd434",
   "metadata": {},
   "source": [
    "Q6. Which of the following is mutable in nature Series, DataFrame, Panel?"
   ]
  },
  {
   "cell_type": "markdown",
   "id": "e0cee426-6354-408e-be0b-def3a564cf61",
   "metadata": {},
   "source": [
    "Ans6).\n",
    "\n",
    "\n",
    "Series and DataFrame are mutable, which means that their contents can be changed after they are created.\n"
   ]
  },
  {
   "cell_type": "markdown",
   "id": "7a4fa749-654c-47ea-b88d-56920ef94d54",
   "metadata": {},
   "source": [
    "## Ques7."
   ]
  },
  {
   "cell_type": "markdown",
   "id": "554cc38b-e0ee-45b1-89ca-cc6405045784",
   "metadata": {},
   "source": [
    "Q7. Create a DataFrame using multiple Series. Explain with an example."
   ]
  },
  {
   "cell_type": "code",
   "execution_count": 18,
   "id": "44f5ed73-d22e-492c-b4e9-12b75ce2d8a4",
   "metadata": {},
   "outputs": [
    {
     "data": {
      "text/html": [
       "<div>\n",
       "<style scoped>\n",
       "    .dataframe tbody tr th:only-of-type {\n",
       "        vertical-align: middle;\n",
       "    }\n",
       "\n",
       "    .dataframe tbody tr th {\n",
       "        vertical-align: top;\n",
       "    }\n",
       "\n",
       "    .dataframe thead th {\n",
       "        text-align: right;\n",
       "    }\n",
       "</style>\n",
       "<table border=\"1\" class=\"dataframe\">\n",
       "  <thead>\n",
       "    <tr style=\"text-align: right;\">\n",
       "      <th></th>\n",
       "      <th>Vehicle</th>\n",
       "      <th>Total_num</th>\n",
       "      <th>Rented</th>\n",
       "    </tr>\n",
       "  </thead>\n",
       "  <tbody>\n",
       "    <tr>\n",
       "      <th>0</th>\n",
       "      <td>cars</td>\n",
       "      <td>12</td>\n",
       "      <td>Yes</td>\n",
       "    </tr>\n",
       "    <tr>\n",
       "      <th>1</th>\n",
       "      <td>bikes</td>\n",
       "      <td>4</td>\n",
       "      <td>no</td>\n",
       "    </tr>\n",
       "    <tr>\n",
       "      <th>2</th>\n",
       "      <td>boats</td>\n",
       "      <td>5</td>\n",
       "      <td>yes</td>\n",
       "    </tr>\n",
       "  </tbody>\n",
       "</table>\n",
       "</div>"
      ],
      "text/plain": [
       "  Vehicle  Total_num Rented\n",
       "0    cars         12    Yes\n",
       "1   bikes          4     no\n",
       "2   boats          5    yes"
      ]
     },
     "execution_count": 18,
     "metadata": {},
     "output_type": "execute_result"
    }
   ],
   "source": [
    "vehicle = pd.Series(['cars', 'bikes', 'boats'])\n",
    "total_num = pd.Series([12,4,5])\n",
    "rented = pd.Series(['Yes', 'no', 'yes'])\n",
    "\n",
    "data_frame = pd.DataFrame({\n",
    "    'Vehicle' : vehicle, 'Total_num' : total_num, 'Rented' : rented})\n",
    "    \n",
    "data_frame    "
   ]
  },
  {
   "cell_type": "code",
   "execution_count": null,
   "id": "93e5303c-ddbf-40e1-9f06-e2a29e4375ec",
   "metadata": {},
   "outputs": [],
   "source": []
  },
  {
   "cell_type": "code",
   "execution_count": null,
   "id": "0896dfea-91ad-4e5e-8432-7b13964af845",
   "metadata": {},
   "outputs": [],
   "source": []
  }
 ],
 "metadata": {
  "kernelspec": {
   "display_name": "Python 3 (ipykernel)",
   "language": "python",
   "name": "python3"
  },
  "language_info": {
   "codemirror_mode": {
    "name": "ipython",
    "version": 3
   },
   "file_extension": ".py",
   "mimetype": "text/x-python",
   "name": "python",
   "nbconvert_exporter": "python",
   "pygments_lexer": "ipython3",
   "version": "3.10.8"
  }
 },
 "nbformat": 4,
 "nbformat_minor": 5
}
