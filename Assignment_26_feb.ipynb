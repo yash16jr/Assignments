{
 "cells": [
  {
   "cell_type": "markdown",
   "id": "6f0e5e0e-eb7f-4f48-a292-78c9956b3450",
   "metadata": {},
   "source": [
    "## Ques1."
   ]
  },
  {
   "cell_type": "markdown",
   "id": "f9c25ea9-e58c-45bc-a104-c03925022162",
   "metadata": {},
   "source": [
    "Q1. Is there any difference in the data type of variables list_ and array_list? If there is then write a code\n",
    "to print the data types of both the variables."
   ]
  },
  {
   "cell_type": "markdown",
   "id": "a4d9bb0a-77e0-4434-949b-81245e75cd32",
   "metadata": {},
   "source": [
    "Ans).  Yes there is a difference between data types of these two variables.<br>\n",
    "list_  is of list datatype where as array_list is of numpy array datatype that has been created from list_ as ndarray using the np.array method.\n"
   ]
  },
  {
   "cell_type": "code",
   "execution_count": 27,
   "id": "7cc8ef2d-d6b3-413b-afea-d4083ef8e3fe",
   "metadata": {},
   "outputs": [],
   "source": [
    "import numpy as np\n",
    "list_ = [ '1' , '2' , '3' , '4' , '5' ]\n",
    "array_list = np.array(object = list_)"
   ]
  },
  {
   "cell_type": "code",
   "execution_count": 28,
   "id": "4a8dfe72-872d-40c3-a665-c843645d3d3e",
   "metadata": {},
   "outputs": [
    {
     "data": {
      "text/plain": [
       "list"
      ]
     },
     "execution_count": 28,
     "metadata": {},
     "output_type": "execute_result"
    }
   ],
   "source": [
    "type(list_)"
   ]
  },
  {
   "cell_type": "code",
   "execution_count": 29,
   "id": "83664478-a1e5-40d0-9447-3ff645352734",
   "metadata": {},
   "outputs": [
    {
     "data": {
      "text/plain": [
       "numpy.ndarray"
      ]
     },
     "execution_count": 29,
     "metadata": {},
     "output_type": "execute_result"
    }
   ],
   "source": [
    "type(array_list)"
   ]
  },
  {
   "cell_type": "markdown",
   "id": "349d4a45-7e76-42a9-a5a2-dcbb93177b9b",
   "metadata": {},
   "source": [
    "## Ques2."
   ]
  },
  {
   "cell_type": "markdown",
   "id": "fd5a4aab-5619-4cdf-9ff5-52e15cd82e70",
   "metadata": {},
   "source": [
    "Q2. Write a code to print the data type of each and every element of both the variables list_ and\n",
    "arra_list."
   ]
  },
  {
   "cell_type": "code",
   "execution_count": 30,
   "id": "17883df7-0c5f-49b5-9b38-77be7b565dd3",
   "metadata": {},
   "outputs": [
    {
     "name": "stdout",
     "output_type": "stream",
     "text": [
      "<class 'str'>\n",
      "<class 'str'>\n",
      "<class 'str'>\n",
      "<class 'str'>\n",
      "<class 'str'>\n"
     ]
    }
   ],
   "source": [
    "for i in list_:\n",
    "    print(type(i))"
   ]
  },
  {
   "cell_type": "code",
   "execution_count": 31,
   "id": "c863ff49-1043-4d29-8f1e-25ef47209155",
   "metadata": {},
   "outputs": [
    {
     "name": "stdout",
     "output_type": "stream",
     "text": [
      "<class 'numpy.str_'>\n",
      "<class 'numpy.str_'>\n",
      "<class 'numpy.str_'>\n",
      "<class 'numpy.str_'>\n",
      "<class 'numpy.str_'>\n"
     ]
    }
   ],
   "source": [
    "for i in array_list:\n",
    "    print(type(i))"
   ]
  },
  {
   "cell_type": "markdown",
   "id": "69011041-3eae-4bcf-b246-17226735e130",
   "metadata": {},
   "source": [
    "## Ques3."
   ]
  },
  {
   "cell_type": "markdown",
   "id": "496e5d83-94af-4e06-a762-e704836270fa",
   "metadata": {},
   "source": [
    "array_list = np.array(object = list_, dtype = int)\n",
    "\n",
    "\n",
    "The above code will change the data type of elements of array_list variable from numpy.str_ to numpy.int64 but it will not change the data type of list_ variable As array_list is taking values from list_ while typecasting them to integer."
   ]
  },
  {
   "cell_type": "code",
   "execution_count": 32,
   "id": "f1776228-31f9-4a1b-95c2-02266daf52ab",
   "metadata": {},
   "outputs": [],
   "source": [
    "array_list = np.array(object = list_, dtype = int)"
   ]
  },
  {
   "cell_type": "code",
   "execution_count": 33,
   "id": "b83d6054-1260-4851-9bba-f2c7c2d05e5f",
   "metadata": {},
   "outputs": [
    {
     "name": "stdout",
     "output_type": "stream",
     "text": [
      "<class 'numpy.int64'>\n",
      "<class 'numpy.int64'>\n",
      "<class 'numpy.int64'>\n",
      "<class 'numpy.int64'>\n",
      "<class 'numpy.int64'>\n"
     ]
    }
   ],
   "source": [
    "for i in array_list:\n",
    "    print(type(i))"
   ]
  },
  {
   "cell_type": "code",
   "execution_count": 34,
   "id": "650b09cc-b29a-4088-873a-04a0018932b5",
   "metadata": {},
   "outputs": [
    {
     "name": "stdout",
     "output_type": "stream",
     "text": [
      "<class 'str'>\n",
      "<class 'str'>\n",
      "<class 'str'>\n",
      "<class 'str'>\n",
      "<class 'str'>\n"
     ]
    }
   ],
   "source": [
    "for i in list_:\n",
    "    print(type(i))"
   ]
  },
  {
   "cell_type": "markdown",
   "id": "a6c3d408-db88-4465-8ea1-d25c51ecd7e8",
   "metadata": {},
   "source": [
    "we can see that dtype of array_list has changed but that of list_ remains the same\n"
   ]
  },
  {
   "cell_type": "markdown",
   "id": "be3f8311-aff4-4a73-846d-46242500fa63",
   "metadata": {},
   "source": [
    "## Ques4."
   ]
  },
  {
   "cell_type": "code",
   "execution_count": 35,
   "id": "f0367638-87ee-46a7-8b23-60334552e479",
   "metadata": {},
   "outputs": [],
   "source": [
    "num_list = [ [ 1 , 2 , 3 ] , [ 4 , 5 , 6 ] ]\n",
    "num_array = np.array(object = num_list)"
   ]
  },
  {
   "cell_type": "code",
   "execution_count": 36,
   "id": "125521c8-f083-424f-9ad3-715f1def3928",
   "metadata": {},
   "outputs": [
    {
     "data": {
      "text/plain": [
       "(2, 3)"
      ]
     },
     "execution_count": 36,
     "metadata": {},
     "output_type": "execute_result"
    }
   ],
   "source": [
    "np.shape(num_array)"
   ]
  },
  {
   "cell_type": "code",
   "execution_count": 37,
   "id": "9a80d21a-7756-43e1-802c-731e0663dada",
   "metadata": {},
   "outputs": [
    {
     "data": {
      "text/plain": [
       "6"
      ]
     },
     "execution_count": 37,
     "metadata": {},
     "output_type": "execute_result"
    }
   ],
   "source": [
    "np.size(num_array)"
   ]
  },
  {
   "cell_type": "markdown",
   "id": "0de1917a-1c8e-449f-ae60-87ca0fc121c8",
   "metadata": {},
   "source": [
    "## Ques5."
   ]
  },
  {
   "cell_type": "markdown",
   "id": "94004daf-401e-40cc-9ea0-d453193caee6",
   "metadata": {},
   "source": [
    "Q5. Write a code to create numpy array of 3*3 matrix containing zeros only, using a numpy array\n",
    "creation function.\n",
    "[Hint: The size of the array will be 9 and the shape will be (3,3).]"
   ]
  },
  {
   "cell_type": "code",
   "execution_count": 38,
   "id": "74a75bbf-c9d7-4bd1-8c5d-758fc21b1538",
   "metadata": {},
   "outputs": [
    {
     "data": {
      "text/plain": [
       "array([[0., 0., 0.],\n",
       "       [0., 0., 0.],\n",
       "       [0., 0., 0.]])"
      ]
     },
     "execution_count": 38,
     "metadata": {},
     "output_type": "execute_result"
    }
   ],
   "source": [
    "arr_zero  = np.zeros((3,3))\n",
    "arr_zero"
   ]
  },
  {
   "cell_type": "markdown",
   "id": "240723bf-beb2-4f3d-a9a7-f6c66532b4a6",
   "metadata": {},
   "source": [
    "## Ques6."
   ]
  },
  {
   "cell_type": "markdown",
   "id": "e1b8dd37-91dd-440b-8285-2418b013e837",
   "metadata": {},
   "source": [
    "Q6. Create an identity matrix of shape (5,5) using numpy functions?"
   ]
  },
  {
   "cell_type": "code",
   "execution_count": 39,
   "id": "1fe549bf-15e0-4a83-8d95-dedf93bf7ac2",
   "metadata": {},
   "outputs": [
    {
     "data": {
      "text/plain": [
       "array([[1., 0., 0., 0., 0.],\n",
       "       [0., 1., 0., 0., 0.],\n",
       "       [0., 0., 1., 0., 0.],\n",
       "       [0., 0., 0., 1., 0.],\n",
       "       [0., 0., 0., 0., 1.]])"
      ]
     },
     "execution_count": 39,
     "metadata": {},
     "output_type": "execute_result"
    }
   ],
   "source": [
    "np.eye(5)"
   ]
  },
  {
   "cell_type": "code",
   "execution_count": null,
   "id": "7a984581-1364-499a-b96e-22435ba20b0a",
   "metadata": {},
   "outputs": [],
   "source": []
  },
  {
   "cell_type": "code",
   "execution_count": null,
   "id": "b37bffb3-d4f6-40f4-b475-bdaff3d124b9",
   "metadata": {},
   "outputs": [],
   "source": []
  }
 ],
 "metadata": {
  "kernelspec": {
   "display_name": "Python 3 (ipykernel)",
   "language": "python",
   "name": "python3"
  },
  "language_info": {
   "codemirror_mode": {
    "name": "ipython",
    "version": 3
   },
   "file_extension": ".py",
   "mimetype": "text/x-python",
   "name": "python",
   "nbconvert_exporter": "python",
   "pygments_lexer": "ipython3",
   "version": "3.10.8"
  }
 },
 "nbformat": 4,
 "nbformat_minor": 5
}
