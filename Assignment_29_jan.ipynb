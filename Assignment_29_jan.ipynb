{
 "cells": [
  {
   "cell_type": "markdown",
   "id": "ef0d4bb6-5674-4752-b843-4bf4c54c5049",
   "metadata": {},
   "source": [
    "## Ans1."
   ]
  },
  {
   "cell_type": "markdown",
   "id": "e4ef7a64-6479-400d-b266-0d6a14d787ce",
   "metadata": {},
   "source": [
    "Python was created by Guido Van Rossum and first released on February 20, 1991."
   ]
  },
  {
   "cell_type": "markdown",
   "id": "3aeebf01-2d01-45a0-a06b-3902ce0d2104",
   "metadata": {},
   "source": [
    "## Ans2."
   ]
  },
  {
   "cell_type": "markdown",
   "id": "636090c6-6cbf-4938-85b0-a691e6ef25ff",
   "metadata": {},
   "source": [
    "Object-oriented programming and structured programming are supported by python programming language"
   ]
  },
  {
   "cell_type": "markdown",
   "id": "16c50cf0-bda2-4f25-a5d4-e84a04962e34",
   "metadata": {},
   "source": [
    "## Ans3."
   ]
  },
  {
   "cell_type": "markdown",
   "id": "a899baba-aa31-4cff-84fd-062a116cbe71",
   "metadata": {},
   "source": [
    "Yes, Python is a case-sensitive language, i.e., it treats uppercase and lowercase characters differently. This applies to identifiers too."
   ]
  },
  {
   "cell_type": "markdown",
   "id": "fd9fb5d7-f556-4e7e-81c3-e86df41f9519",
   "metadata": {},
   "source": [
    "## Ans4."
   ]
  },
  {
   "cell_type": "markdown",
   "id": "78f2e517-83b8-4b9c-822d-bd07c95731a4",
   "metadata": {},
   "source": [
    ".py is correct extension of python."
   ]
  },
  {
   "cell_type": "markdown",
   "id": "726de5e8-fe65-4631-8128-aef910445756",
   "metadata": {},
   "source": [
    "## Ans5."
   ]
  },
  {
   "cell_type": "markdown",
   "id": "684bf418-1275-46ec-a4a5-b823daad907e",
   "metadata": {},
   "source": [
    "Python code is both compiled and interpreted."
   ]
  },
  {
   "cell_type": "markdown",
   "id": "2dfb09b9-231c-4062-a8ae-3c057807c3c7",
   "metadata": {},
   "source": [
    "## Ans6."
   ]
  },
  {
   "cell_type": "markdown",
   "id": "bacb8297-e668-4e08-9cdf-797785da472b",
   "metadata": {},
   "source": [
    "loops(for and while)<br>\n",
    "conditional statements(if-else)<br>\n",
    "functions"
   ]
  },
  {
   "cell_type": "markdown",
   "id": "7872049a-fbc4-43d2-aa67-cd9785565d56",
   "metadata": {},
   "source": [
    "## Ans7."
   ]
  },
  {
   "cell_type": "markdown",
   "id": "acbcf132-8bbc-46bb-ad9b-61f7779b25cd",
   "metadata": {},
   "source": [
    "#(hash character)"
   ]
  },
  {
   "cell_type": "markdown",
   "id": "a9bc74e4-38ee-428b-99fd-2ec92359a079",
   "metadata": {},
   "source": [
    "## Ans8."
   ]
  },
  {
   "cell_type": "markdown",
   "id": "78de5eff-41c0-43a3-a358-c1c1446d99a3",
   "metadata": {},
   "source": [
    "sys.version"
   ]
  },
  {
   "cell_type": "markdown",
   "id": "61c00ea4-003a-4c94-917d-cc6f55f6e186",
   "metadata": {},
   "source": [
    "## Ans9."
   ]
  },
  {
   "cell_type": "markdown",
   "id": "d98ccf40-3e5b-4eca-a98a-61f53bb46bf8",
   "metadata": {},
   "source": [
    "lambda"
   ]
  },
  {
   "cell_type": "markdown",
   "id": "e6f515a4-0bbc-4453-a09d-abb75680e79b",
   "metadata": {},
   "source": [
    "## Ans10."
   ]
  },
  {
   "cell_type": "markdown",
   "id": "de732803-d411-4599-b040-c537c94ac8e3",
   "metadata": {},
   "source": [
    "Preferred Installer Program"
   ]
  },
  {
   "cell_type": "markdown",
   "id": "86e1a570-1f41-4b81-b031-aac277e6b05b",
   "metadata": {},
   "source": [
    "## Ans11."
   ]
  },
  {
   "cell_type": "markdown",
   "id": "1dbd2086-54ec-4b46-b25d-2ed308df879c",
   "metadata": {},
   "source": [
    "print()<br>\n",
    "type()<br>\n",
    "input()<br>\n",
    "len()<br>\n",
    "eval()"
   ]
  },
  {
   "cell_type": "markdown",
   "id": "fc715332-cd65-469b-9af4-9f044bc7cfcf",
   "metadata": {},
   "source": [
    "## Ans12"
   ]
  },
  {
   "cell_type": "markdown",
   "id": "6e8514dc-8dfb-40f5-b0ac-435e7212296c",
   "metadata": {},
   "source": [
    "maximum of 79 characters"
   ]
  },
  {
   "cell_type": "markdown",
   "id": "a82f305e-1d06-4337-ad06-d5ff8a14f40b",
   "metadata": {},
   "source": [
    "## Ans13."
   ]
  },
  {
   "cell_type": "markdown",
   "id": "9e7ccb1f-90d8-46ee-aa3b-7248f261dda2",
   "metadata": {},
   "source": [
    "free and open source <br>\n",
    "Easy to Read, Learn and Write  <br>\n",
    "Vast Libraries Support  <br>\n",
    "Portability <br>\n",
    "dynamically typed language"
   ]
  },
  {
   "cell_type": "markdown",
   "id": "7096a126-51a2-4387-b8ef-283b7eaa9955",
   "metadata": {},
   "source": [
    "## Ans14."
   ]
  },
  {
   "cell_type": "markdown",
   "id": "93b2dce1-4123-4bdc-ae4e-f6c3dc26262d",
   "metadata": {},
   "source": [
    " Memory management in Python involves a private heap containing all Python objects and data structures.<br>The private heap is managed internally by the Python memory manager."
   ]
  },
  {
   "cell_type": "markdown",
   "id": "340ffaa1-464f-45f1-9e85-d0dded3a0b44",
   "metadata": {},
   "source": [
    "## Ans15."
   ]
  },
  {
   "cell_type": "markdown",
   "id": "c193e214-5705-4374-a704-58f2e867aa20",
   "metadata": {},
   "source": [
    "go to browser write python download ,click python download and dowloading starts<br>\n",
    "after download go to the download folder and click on and install it.<br>\n",
    "after installation go to cmd and write python -v if python version comes then python is installed in your computer.<br>\n",
    "if version is not come then you have to set the path variable.<br>\n",
    "click on start button and type environment.<br>\n",
    "click on bottom right environment variable.<br>\n",
    "go to user variable and path variable and click on it.<br>\n",
    "click on new and copy the python path where you python is installed.<br>\n",
    "click ok"
   ]
  },
  {
   "cell_type": "markdown",
   "id": "bc52d884-76ea-4efb-aea2-6ec34d587a18",
   "metadata": {},
   "source": [
    "# Ans16."
   ]
  },
  {
   "cell_type": "markdown",
   "id": "af4aaddd-98f2-4fa4-b33c-cf188a6f6dad",
   "metadata": {},
   "source": [
    "Indentation is mandatory in python to define the blocks of statements.<br>\n",
    "It is preferred to use whitespaces to indent in python.<br>\n",
    "while other programming language such as C and Java uses curly braces."
   ]
  },
  {
   "cell_type": "code",
   "execution_count": null,
   "id": "7ca4dce1-8afd-45db-8047-035c381bf2b5",
   "metadata": {},
   "outputs": [],
   "source": []
  },
  {
   "cell_type": "code",
   "execution_count": null,
   "id": "64715919-cabe-4fe3-a922-dd1c2ef61384",
   "metadata": {},
   "outputs": [],
   "source": []
  }
 ],
 "metadata": {
  "kernelspec": {
   "display_name": "Python 3 (ipykernel)",
   "language": "python",
   "name": "python3"
  },
  "language_info": {
   "codemirror_mode": {
    "name": "ipython",
    "version": 3
   },
   "file_extension": ".py",
   "mimetype": "text/x-python",
   "name": "python",
   "nbconvert_exporter": "python",
   "pygments_lexer": "ipython3",
   "version": "3.10.8"
  }
 },
 "nbformat": 4,
 "nbformat_minor": 5
}
