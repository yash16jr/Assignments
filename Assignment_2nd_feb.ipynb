{
 "cells": [
  {
   "cell_type": "markdown",
   "id": "79db00ef-4740-4ef6-b51a-fb2be44a4e18",
   "metadata": {
    "tags": []
   },
   "source": [
    "## Ques1."
   ]
  },
  {
   "cell_type": "markdown",
   "id": "cb736d81-0ae4-43af-9313-fcfc0699fdba",
   "metadata": {},
   "source": [
    "Q1. What are the characteristics of the tuples? Is tuple immutable?"
   ]
  },
  {
   "cell_type": "markdown",
   "id": "e778d354-2b25-419c-aefe-1932b4371325",
   "metadata": {},
   "source": [
    "Ans1. Tuples are an ordered collection of elements that is represented by parenthesis ( ).\n",
    "Tuples can contain duplicates .\n",
    "Tuples are immutable"
   ]
  },
  {
   "cell_type": "markdown",
   "id": "466f107e-10b8-44e4-8a5e-1d8754936c53",
   "metadata": {},
   "source": [
    "## Ques2."
   ]
  },
  {
   "cell_type": "markdown",
   "id": "63f28547-402b-4d1c-a166-3c5f71e43d5b",
   "metadata": {},
   "source": [
    "Q2. What are the two tuple methods in python? Give an example of each method. Give a reason why\n",
    "tuples have only two in-built methods as compared to Lists."
   ]
  },
  {
   "cell_type": "markdown",
   "id": "a7fcf40e-fe6e-423b-9307-e466e9db6b9f",
   "metadata": {},
   "source": [
    "Ans2. Two tuple methods in python are :\n",
    ".count() and .index()"
   ]
  },
  {
   "cell_type": "code",
   "execution_count": 1,
   "id": "2c1a755c-b935-4344-81bd-2748f4e3f348",
   "metadata": {},
   "outputs": [
    {
     "data": {
      "text/plain": [
       "1"
      ]
     },
     "execution_count": 1,
     "metadata": {},
     "output_type": "execute_result"
    }
   ],
   "source": [
    "t1 = (1,2,3,4,5)\n",
    "t1.count(4)\n",
    "# This method counts the number of occurances of the value passed as parameter"
   ]
  },
  {
   "cell_type": "code",
   "execution_count": 2,
   "id": "d597e97b-a023-405c-bd8a-2d3da320029e",
   "metadata": {},
   "outputs": [
    {
     "data": {
      "text/plain": [
       "3"
      ]
     },
     "execution_count": 2,
     "metadata": {},
     "output_type": "execute_result"
    }
   ],
   "source": [
    "t1.index(4)\n",
    "#This method returns the first index of the value passed as parameter"
   ]
  },
  {
   "cell_type": "markdown",
   "id": "2ba5241f-f872-41cc-8d01-6a1dece7a535",
   "metadata": {},
   "source": [
    "Tuples only have 2 methods because they are immutable and do not support any assignment operator or functions."
   ]
  },
  {
   "cell_type": "markdown",
   "id": "649e61e1-39ac-4010-af8a-9fc01d697b11",
   "metadata": {},
   "source": [
    "## Ques3."
   ]
  },
  {
   "cell_type": "markdown",
   "id": "6daa3b6a-4ada-42bc-89af-ca1bf770a39f",
   "metadata": {},
   "source": [
    "Q3. Which collection datatypes in python do not allow duplicate items? Write a code using a set to remove\n",
    "duplicates from the given list.\n",
    "List = [1, 1, 1, 2, 1, 3, 1, 4, 2, 1, 2, 2, 2, 3, 2, 4, 3, 1, 3, 2, 3, 3, 3, 4, 4, 1, 4, 2, 4, 3, 4, 4]"
   ]
  },
  {
   "cell_type": "markdown",
   "id": "181c1913-609c-4400-a0b2-6a3758791dba",
   "metadata": {},
   "source": [
    "Ans3. 'Set' dataype does not allows duplicate items due to the property  of hashable index. "
   ]
  },
  {
   "cell_type": "code",
   "execution_count": 3,
   "id": "11d30581-ff81-4d6f-9a77-e1d0f2e9d8c0",
   "metadata": {},
   "outputs": [],
   "source": [
    "# Removing the duplicates from the list:\n",
    "List = [1, 1, 1, 2, 1, 3, 1, 4, 2, 1, 2, 2, 2, 3, 2, 4, 3, 1, 3, 2, 3, 3, 3, 4, 4, 1, 4, 2, 4, 3, 4, 4]"
   ]
  },
  {
   "cell_type": "code",
   "execution_count": 4,
   "id": "4020fe05-b956-4b2e-bb10-e04aeefe8a8b",
   "metadata": {},
   "outputs": [
    {
     "data": {
      "text/plain": [
       "{1, 2, 3, 4}"
      ]
     },
     "execution_count": 4,
     "metadata": {},
     "output_type": "execute_result"
    }
   ],
   "source": [
    "set(List)\n"
   ]
  },
  {
   "cell_type": "markdown",
   "id": "3561b816-2402-429a-a00d-aa41dfd2ff79",
   "metadata": {},
   "source": [
    "## Ques4."
   ]
  },
  {
   "cell_type": "markdown",
   "id": "279cf899-f099-43c9-b32f-78b164334b0e",
   "metadata": {},
   "source": [
    "Q4. Explain the difference between the union() and update() methods for a set. Give an example of\n",
    "each method."
   ]
  },
  {
   "cell_type": "markdown",
   "id": "2294d76c-5727-41bd-a477-9de661dcefff",
   "metadata": {},
   "source": [
    "Ans4. \n",
    "union() method is used to return a new set with the values from the first set as well as second set.\n",
    "\n",
    "update() method is used to return the first set with added values from the second set to it. "
   ]
  },
  {
   "cell_type": "code",
   "execution_count": 5,
   "id": "ccb526dc-3ba9-42e8-aeef-8930a4c15b52",
   "metadata": {},
   "outputs": [],
   "source": [
    "s1 = {1,3,5,7}\n",
    "s2 = {2,4,6,8}"
   ]
  },
  {
   "cell_type": "code",
   "execution_count": 6,
   "id": "c106dc69-9e2c-4204-8d23-942ece8fe761",
   "metadata": {},
   "outputs": [
    {
     "data": {
      "text/plain": [
       "{1, 2, 3, 4, 5, 6, 7, 8}"
      ]
     },
     "execution_count": 6,
     "metadata": {},
     "output_type": "execute_result"
    }
   ],
   "source": [
    "s1.union(s2)"
   ]
  },
  {
   "cell_type": "code",
   "execution_count": 7,
   "id": "6e768124-e173-4ef4-b6ad-86f3db86253d",
   "metadata": {},
   "outputs": [
    {
     "data": {
      "text/plain": [
       "{1, 2, 3, 4, 5, 6, 7, 8}"
      ]
     },
     "execution_count": 7,
     "metadata": {},
     "output_type": "execute_result"
    }
   ],
   "source": [
    "s1.update(s2)\n",
    "s1"
   ]
  },
  {
   "cell_type": "markdown",
   "id": "15765a29-ec60-4aca-9d40-a5469616fa56",
   "metadata": {},
   "source": [
    "## Ques5."
   ]
  },
  {
   "cell_type": "markdown",
   "id": "50120af9-81bb-43e0-a63a-0d07bd38b0f0",
   "metadata": {},
   "source": [
    "Q5. What is a dictionary? Give an example. Also, state whether a dictionary is ordered or unordered."
   ]
  },
  {
   "cell_type": "markdown",
   "id": "816a0639-a186-4d45-aaf4-6d22c6655c36",
   "metadata": {},
   "source": [
    "Ans5. A dictionary is a collection of elements in the formof key-value pairs where all the keys are unique.\n",
    "A dictionary is an unordered colection."
   ]
  },
  {
   "cell_type": "code",
   "execution_count": 8,
   "id": "4635f522-ca43-4fea-9a93-755d29ac1982",
   "metadata": {},
   "outputs": [],
   "source": [
    "d1 = {'name' : 'Yash', 'age': 21, 'course' : 'Ds Master'}"
   ]
  },
  {
   "cell_type": "code",
   "execution_count": 9,
   "id": "2ccd66da-0c4a-416a-80bb-8324b0b68aed",
   "metadata": {},
   "outputs": [
    {
     "data": {
      "text/plain": [
       "{'name': 'Yash', 'age': 21, 'course': 'Ds Master'}"
      ]
     },
     "execution_count": 9,
     "metadata": {},
     "output_type": "execute_result"
    }
   ],
   "source": [
    "d1"
   ]
  },
  {
   "cell_type": "markdown",
   "id": "9c78fb05-cff3-4223-83f4-5ae25512256d",
   "metadata": {},
   "source": [
    "## Ques6."
   ]
  },
  {
   "cell_type": "markdown",
   "id": "b2d61b4e-0f8f-4bbd-843f-dd8b880a07ca",
   "metadata": {},
   "source": [
    "Q6. Can we create a nested dictionary? If so, please give an example by creating a simple one-level\n",
    "nested dictionary."
   ]
  },
  {
   "cell_type": "markdown",
   "id": "7c416842-4809-4b07-9333-5870b60a5984",
   "metadata": {},
   "source": [
    "Ans6. Yes we can create a nested dictionary by passing one of the values in a dictionary as dictionary."
   ]
  },
  {
   "cell_type": "code",
   "execution_count": 10,
   "id": "ba20b560",
   "metadata": {},
   "outputs": [
    {
     "data": {
      "text/plain": [
       "{'name': {'first_name': 'yash', 'second_name': 'singh'}}"
      ]
     },
     "execution_count": 24,
     "metadata": {},
     "output_type": "execute_result"
    }
   ],
   "source": [
    "d1 = {'name' : {'first_name': 'yash', 'last_name' : 'singh'}}\n",
    "d1"
   ]
  },
  {
   "cell_type": "markdown",
   "id": "c1b96a85-56f4-4929-8e04-88c0b7a2faf3",
   "metadata": {},
   "source": [
    "## Ques7. "
   ]
  },
  {
   "cell_type": "markdown",
   "id": "63305792-e2bf-486a-80d7-24229ffd5f4c",
   "metadata": {},
   "source": [
    "Q7. Using setdefault() method, create key named topics in the given dictionary and also add the value of\n",
    "the key as this list ['Python', 'Machine Learning’, 'Deep Learning']\n",
    "dict1 = {'language' : 'Python', 'course': 'Data Science Masters'}"
   ]
  },
  {
   "cell_type": "code",
   "execution_count": 12,
   "id": "65d3899a-ec0d-4f65-84a3-c1bd7b0f36c6",
   "metadata": {},
   "outputs": [],
   "source": [
    "dict1 = {'language' : 'Python', 'course': 'Data Science Masters'}"
   ]
  },
  {
   "cell_type": "code",
   "execution_count": 13,
   "id": "548aa354-4959-4b4e-925e-d02f1bd300e0",
   "metadata": {},
   "outputs": [
    {
     "data": {
      "text/plain": [
       "{'language': 'Python',\n",
       " 'course': 'Data Science Masters',\n",
       " 'topics': ['Python', 'Machine Learning', 'Deep Learning']}"
      ]
     },
     "execution_count": 13,
     "metadata": {},
     "output_type": "execute_result"
    }
   ],
   "source": [
    "dict1.setdefault('topics' , ['Python', 'Machine Learning','Deep Learning'])\n",
    "dict1"
   ]
  },
  {
   "cell_type": "markdown",
   "id": "bd0b22cb-f7d2-4aa1-a5e1-150febe376c5",
   "metadata": {},
   "source": [
    "## Ques8."
   ]
  },
  {
   "cell_type": "markdown",
   "id": "b353e907-4132-4362-ac68-8e280e0299f9",
   "metadata": {},
   "source": [
    "Q8. What are the three view objects in dictionaries? Use the three in-built methods in python to display\n",
    "these three view objects for the given dictionary.\n",
    "dict1 = {'Sport': 'Cricket' , 'Teams': ['India', 'Australia', 'England', 'South Africa', 'Sri Lanka', 'New Zealand']}"
   ]
  },
  {
   "cell_type": "markdown",
   "id": "a873933d-3f01-4450-ba1f-d25569f8f80c",
   "metadata": {},
   "source": [
    "Ans8. The three view objects in dictionaries are key,value and items "
   ]
  },
  {
   "cell_type": "code",
   "execution_count": 15,
   "id": "e4a581a2-e73f-4759-ba9f-61ca974ba653",
   "metadata": {},
   "outputs": [],
   "source": [
    "dict1 = {'Sport': 'Cricket' , 'Teams': ['India', 'Australia', 'England', 'South Africa', 'Sri Lanka', 'New Zealand']}"
   ]
  },
  {
   "cell_type": "code",
   "execution_count": 16,
   "id": "1f624f18-e338-4f4f-bb06-a46b5a41ed68",
   "metadata": {},
   "outputs": [
    {
     "data": {
      "text/plain": [
       "dict_keys(['Sport', 'Teams'])"
      ]
     },
     "execution_count": 16,
     "metadata": {},
     "output_type": "execute_result"
    }
   ],
   "source": [
    "dict1.keys()"
   ]
  },
  {
   "cell_type": "code",
   "execution_count": 17,
   "id": "cf65866b-d841-4bf5-871d-59b0feda4c40",
   "metadata": {},
   "outputs": [
    {
     "data": {
      "text/plain": [
       "dict_values(['Cricket', ['India', 'Australia', 'England', 'South Africa', 'Sri Lanka', 'New Zealand']])"
      ]
     },
     "execution_count": 17,
     "metadata": {},
     "output_type": "execute_result"
    }
   ],
   "source": [
    "dict1.values()"
   ]
  },
  {
   "cell_type": "code",
   "execution_count": 18,
   "id": "61222844-c30d-479a-b78e-183bad6bbbb3",
   "metadata": {},
   "outputs": [
    {
     "data": {
      "text/plain": [
       "dict_items([('Sport', 'Cricket'), ('Teams', ['India', 'Australia', 'England', 'South Africa', 'Sri Lanka', 'New Zealand'])])"
      ]
     },
     "execution_count": 18,
     "metadata": {},
     "output_type": "execute_result"
    }
   ],
   "source": [
    "dict1.items()"
   ]
  }
 ],
 "metadata": {
  "kernelspec": {
   "display_name": "Python 3 (ipykernel)",
   "language": "python",
   "name": "python3"
  },
  "language_info": {
   "codemirror_mode": {
    "name": "ipython",
    "version": 3
   },
   "file_extension": ".py",
   "mimetype": "text/x-python",
   "name": "python",
   "nbconvert_exporter": "python",
   "pygments_lexer": "ipython3",
   "version": "3.10.8"
  }
 },
 "nbformat": 4,
 "nbformat_minor": 5
}
