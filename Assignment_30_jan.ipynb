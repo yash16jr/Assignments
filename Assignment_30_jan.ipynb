{
 "cells": [
  {
   "cell_type": "markdown",
   "id": "42476b91-5127-49dc-8700-1f5c2316727d",
   "metadata": {},
   "source": [
    "## Ques1"
   ]
  },
  {
   "cell_type": "code",
   "execution_count": 8,
   "id": "b6ded5f1-caa5-4ecd-a4c5-7e576cc7ffc9",
   "metadata": {},
   "outputs": [
    {
     "name": "stdin",
     "output_type": "stream",
     "text": [
      "Enter percentage: 89\n"
     ]
    },
    {
     "name": "stdout",
     "output_type": "stream",
     "text": [
      "Grade B\n"
     ]
    }
   ],
   "source": [
    "per=eval(input(\"Enter percentage:\"))\n",
    "if(per>100 or per<0):\n",
    "    print(\"Invalid percentage\")\n",
    "elif(per>90):\n",
    "    print(\"Grade A\")\n",
    "elif(per>80 and per<=90):\n",
    "    print(\"Grade B\")\n",
    "elif(per>=60 and per<=80):\n",
    "    print(\"Grade C\")\n",
    "else:\n",
    "    print(\"Grade D\")"
   ]
  },
  {
   "cell_type": "markdown",
   "id": "dbf813dc-99f8-48ac-affc-42108e7c46d9",
   "metadata": {},
   "source": [
    "## Ques2."
   ]
  },
  {
   "cell_type": "code",
   "execution_count": 9,
   "id": "c92fef09-0fc7-47b5-9ced-402167625e4f",
   "metadata": {},
   "outputs": [
    {
     "name": "stdin",
     "output_type": "stream",
     "text": [
      "Enter the cost price of the bike: 150000\n"
     ]
    },
    {
     "name": "stdout",
     "output_type": "stream",
     "text": [
      "The road tax @ 15 percent of cost price to be paid is: 22500.0\n"
     ]
    }
   ],
   "source": [
    "cp=eval(input(\"Enter the cost price of the bike:\"))\n",
    "if(cp>100000):\n",
    "    rt=cp*0.15\n",
    "    print(\"The road tax @ 15 percent of cost price to be paid is:\",rt)\n",
    "elif(cp>50000 and cp<=100000):\n",
    "    rt=cp*0.10\n",
    "    print(\"The road tax @ 10 percent of cost price to be paid is:\",rt)\n",
    "else:\n",
    "    rt=cp*0.05\n",
    "    print(\"The road tax @ 5 percent of cost price to be paid is:\",rt)"
   ]
  },
  {
   "cell_type": "markdown",
   "id": "4e2d03a0-c1e9-4904-90c6-22aff147bf83",
   "metadata": {},
   "source": [
    "## Ques3."
   ]
  },
  {
   "cell_type": "code",
   "execution_count": 10,
   "id": "85fc10e7-3057-447d-b575-fef63d924725",
   "metadata": {},
   "outputs": [
    {
     "name": "stdin",
     "output_type": "stream",
     "text": [
      "Enter the city name: Delhi\n"
     ]
    },
    {
     "name": "stdout",
     "output_type": "stream",
     "text": [
      "Red Fort\n"
     ]
    }
   ],
   "source": [
    "cty=input(\"Enter the city name:\")\n",
    "if(cty==\"Delhi\"):\n",
    "    print(\"Red Fort\")\n",
    "elif(cty==\"Agra\"):\n",
    "    print(\"Taj Mahal\")\n",
    "elif(cty==\"Jaipur\"):\n",
    "    print(\"Jal Mahal\")"
   ]
  },
  {
   "cell_type": "markdown",
   "id": "9100ad1c-939c-406d-98c9-f10f23429eb8",
   "metadata": {},
   "source": [
    "# Ques4."
   ]
  },
  {
   "cell_type": "code",
   "execution_count": 11,
   "id": "19f4f65b-c6c0-4223-a431-437b7098db30",
   "metadata": {},
   "outputs": [
    {
     "name": "stdin",
     "output_type": "stream",
     "text": [
      "Enter a number:  855\n"
     ]
    },
    {
     "name": "stdout",
     "output_type": "stream",
     "text": [
      "The number is divisible by 3 2 times before it becomes less than or equal to 10.\n"
     ]
    }
   ],
   "source": [
    "number = int(input(\"Enter a number: \"))\n",
    "\n",
    "count = 0\n",
    "while number >=10:\n",
    "    if number % 3 == 0: \n",
    "        count += 1\n",
    "        number = number/3\n",
    "    else:\n",
    "        break\n",
    "\n",
    "print(\"The number is divisible by 3\", count, \"times before it becomes less than or equal to 10.\")\n"
   ]
  },
  {
   "cell_type": "markdown",
   "id": "0ef455ab-252c-4fb9-b645-747ef88814a6",
   "metadata": {},
   "source": [
    "## Ques5."
   ]
  },
  {
   "cell_type": "markdown",
   "id": "9cd82db8-b239-441f-b274-acd1abef98d4",
   "metadata": {},
   "source": [
    "A While Loop is used to repeat a specific block of code an unknown number of times, until a condition is met"
   ]
  },
  {
   "cell_type": "code",
   "execution_count": 12,
   "id": "b9a6cacb-145b-46b4-8fdd-ada312271629",
   "metadata": {},
   "outputs": [
    {
     "name": "stdin",
     "output_type": "stream",
     "text": [
      "Enter a number: 15\n"
     ]
    },
    {
     "name": "stdout",
     "output_type": "stream",
     "text": [
      "Hello\n",
      "Hello\n",
      "Hello\n",
      "Hello\n",
      "Hello\n"
     ]
    }
   ],
   "source": [
    "a = int(input(\"Enter a number:\"))\n",
    "while a > 10:\n",
    "    print(\"Hello\")\n",
    "    a = a-1"
   ]
  },
  {
   "cell_type": "markdown",
   "id": "5e27b569-d3cc-4f7d-bd07-57e4115250f3",
   "metadata": {},
   "source": [
    "## Ques6"
   ]
  },
  {
   "cell_type": "code",
   "execution_count": 13,
   "id": "a3ad2178-c4dc-42e7-9051-fa5e9d3342b2",
   "metadata": {},
   "outputs": [
    {
     "name": "stdout",
     "output_type": "stream",
     "text": [
      "\n",
      "Pattern 1\n",
      "*\n",
      "**\n",
      "***\n",
      "****\n",
      "*****\n",
      "\n",
      "Pattern 2\n",
      "******\n",
      "*****\n",
      "****\n",
      "***\n",
      "**\n",
      "*\n",
      "\n",
      "Pattern 3\n",
      "1\n",
      "12\n",
      "123\n",
      "1234\n",
      "12345\n"
     ]
    }
   ],
   "source": [
    "print(\"\\nPattern 1\")\n",
    "i=1\n",
    "while i<=5:\n",
    "    j=1\n",
    "    while j<=i:\n",
    "        print(\"*\",end=\"\")\n",
    "        j+=1\n",
    "    print()\n",
    "    i+=1\n",
    "print(\"\\nPattern 2\")\n",
    "while i>=1:\n",
    "    j=1\n",
    "    while j<=i:\n",
    "        print(\"*\",end=\"\")\n",
    "        j+=1\n",
    "    print()\n",
    "    i-=1\n",
    "print(\"\\nPattern 3\")\n",
    "j=1\n",
    "while j<=5:\n",
    "    i=1\n",
    "    while i<=j:\n",
    "        print(i,end=\"\")\n",
    "        i+=1\n",
    "    print()\n",
    "    j+=1"
   ]
  },
  {
   "cell_type": "markdown",
   "id": "7f8dac61-058b-4f36-be3d-37042ffa2c69",
   "metadata": {},
   "source": [
    "## Ques7."
   ]
  },
  {
   "cell_type": "code",
   "execution_count": 14,
   "id": "c45208ce-08b6-4ebe-bb30-eabfb61755e8",
   "metadata": {},
   "outputs": [
    {
     "name": "stdout",
     "output_type": "stream",
     "text": [
      "10\n",
      "9\n",
      "8\n",
      "7\n",
      "6\n",
      "5\n",
      "4\n",
      "3\n",
      "2\n",
      "1\n"
     ]
    }
   ],
   "source": [
    "a = 10\n",
    "while a > 0:\n",
    "    print(a)\n",
    "    a = a-1"
   ]
  },
  {
   "cell_type": "markdown",
   "id": "bcc1694c-d7a5-4425-af95-eef569327e5c",
   "metadata": {},
   "source": [
    "## Ques8."
   ]
  },
  {
   "cell_type": "markdown",
   "id": "5270a718-5dd3-4b0f-88e2-25140dac011f",
   "metadata": {},
   "source": [
    "Ques 7 and Ques 8 are repeated."
   ]
  },
  {
   "cell_type": "code",
   "execution_count": 15,
   "id": "dc33f816-d4d3-49ff-82b8-57b12c2b79b0",
   "metadata": {},
   "outputs": [],
   "source": [
    "## my Assignment ques : https://drive.google.com/file/d/1hyD9pv5dlwP2dnIkvfvyw2CHSECrJw2x/view"
   ]
  },
  {
   "cell_type": "code",
   "execution_count": null,
   "id": "2a8900e3-d0b1-483e-b1e5-785a07c12612",
   "metadata": {},
   "outputs": [],
   "source": []
  },
  {
   "cell_type": "code",
   "execution_count": null,
   "id": "d5be3e01-954b-4aa2-b494-bbb8e478077c",
   "metadata": {},
   "outputs": [],
   "source": []
  }
 ],
 "metadata": {
  "kernelspec": {
   "display_name": "Python 3 (ipykernel)",
   "language": "python",
   "name": "python3"
  },
  "language_info": {
   "codemirror_mode": {
    "name": "ipython",
    "version": 3
   },
   "file_extension": ".py",
   "mimetype": "text/x-python",
   "name": "python",
   "nbconvert_exporter": "python",
   "pygments_lexer": "ipython3",
   "version": "3.10.8"
  }
 },
 "nbformat": 4,
 "nbformat_minor": 5
}
