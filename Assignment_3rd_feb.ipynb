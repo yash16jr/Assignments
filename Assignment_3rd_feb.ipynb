{
 "cells": [
  {
   "cell_type": "markdown",
   "id": "42626044-a470-4c8e-822c-4e5db37e1d75",
   "metadata": {},
   "source": [
    "## Ques1."
   ]
  },
  {
   "cell_type": "markdown",
   "id": "40bd812f-a3e8-41a3-8f1e-ce9cf330748d",
   "metadata": {},
   "source": [
    "Q1. Which keyword is used to create a function? Create a function to return a list of odd numbers in the\n",
    "range of 1 to 25."
   ]
  },
  {
   "cell_type": "markdown",
   "id": "851bd10c-da14-4c28-b0a9-5ba123d3eaad",
   "metadata": {},
   "source": [
    "Ans. \"def\" keyword is used to create a funbction in python ."
   ]
  },
  {
   "cell_type": "code",
   "execution_count": 3,
   "id": "3f5b2053-5057-43d3-8442-049afcb3f408",
   "metadata": {},
   "outputs": [
    {
     "name": "stdout",
     "output_type": "stream",
     "text": [
      "1\n",
      "3\n",
      "5\n",
      "7\n",
      "9\n",
      "11\n",
      "13\n",
      "15\n",
      "17\n",
      "19\n",
      "21\n",
      "23\n",
      "25\n"
     ]
    }
   ],
   "source": [
    "for i in range(26):\n",
    "    if i%2 != 0:\n",
    "        print(i)"
   ]
  },
  {
   "cell_type": "markdown",
   "id": "6ca0a9a1-8c27-4b8f-ad27-d9fd9ced9865",
   "metadata": {},
   "source": [
    "## Ques2."
   ]
  },
  {
   "cell_type": "markdown",
   "id": "30d98c8f-b659-4f9b-bef8-cc11c1517c76",
   "metadata": {},
   "source": [
    "Q2. Why *args and **kwargs is used in some functions? Create a function each for *args and **kwargs to\n",
    "demonstrate their use."
   ]
  },
  {
   "cell_type": "markdown",
   "id": "503f999e-7ded-42a9-951f-4526586441ca",
   "metadata": {},
   "source": [
    "Ans2. *args is used as an argument while defining a function to allow it to take any number of parameters.\n",
    "\n",
    "**kwargs is used as an argument while defining a function to allow it to take the parameters as key-value pairs."
   ]
  },
  {
   "cell_type": "code",
   "execution_count": 4,
   "id": "ccef93ea-1a3f-4886-9b9c-ad2af35d1d0b",
   "metadata": {},
   "outputs": [],
   "source": [
    "def test1(*args):\n",
    "    return args"
   ]
  },
  {
   "cell_type": "code",
   "execution_count": 5,
   "id": "a21fcb17-c795-43c7-914f-bcc90ffccd52",
   "metadata": {},
   "outputs": [
    {
     "data": {
      "text/plain": [
       "(1, 2, 3)"
      ]
     },
     "execution_count": 5,
     "metadata": {},
     "output_type": "execute_result"
    }
   ],
   "source": [
    "test1(1,2,3)"
   ]
  },
  {
   "cell_type": "code",
   "execution_count": 6,
   "id": "a5bf070e-7944-418b-8504-b348a166aafa",
   "metadata": {},
   "outputs": [],
   "source": [
    "def test2(**kwargs):\n",
    "    return kwargs"
   ]
  },
  {
   "cell_type": "code",
   "execution_count": 7,
   "id": "dcd5e2a8-31d5-4f48-9b1a-4e842a245d68",
   "metadata": {},
   "outputs": [
    {
     "data": {
      "text/plain": [
       "{'y': 25, 'a': 1, 's': 19}"
      ]
     },
     "execution_count": 7,
     "metadata": {},
     "output_type": "execute_result"
    }
   ],
   "source": [
    "test2(y= 25, a = 1, s = 19)"
   ]
  },
  {
   "cell_type": "markdown",
   "id": "0d767008-f956-4350-842d-d8b78d356d43",
   "metadata": {},
   "source": [
    "## Ques3."
   ]
  },
  {
   "cell_type": "markdown",
   "id": "ac9b472c-3b3b-4868-96c3-a445ab55d470",
   "metadata": {},
   "source": [
    "Q3. What is an iterator in python? Name the method used to initialise the iterator object and the method\n",
    "used for iteration. Use these methods to print the first five elements of the given list [2, 4, 6, 8, 10, 12, 14, 16,\n",
    "18, 20]."
   ]
  },
  {
   "cell_type": "markdown",
   "id": "cf04b77a-9116-4392-b0b8-a4c48b6b4891",
   "metadata": {},
   "source": [
    "Ans3. An iterator is an object that contains finite and countable number of values that can be counted by traversing through the object. In python, iter() method id used to initialize iterator object and next() method is used to iterate over the object."
   ]
  },
  {
   "cell_type": "code",
   "execution_count": 10,
   "id": "7c6dd07a-9fc4-4c42-a82e-b33700d14097",
   "metadata": {},
   "outputs": [
    {
     "name": "stdout",
     "output_type": "stream",
     "text": [
      "1\n",
      "2\n",
      "3\n",
      "4\n",
      "5\n"
     ]
    }
   ],
   "source": [
    "list1 = [1,2,3,4,5]\n",
    "\n",
    "iterator = iter(list1)\n",
    "\n",
    "print(next(iterator))\n",
    "print(next(iterator))\n",
    "print(next(iterator))\n",
    "print(next(iterator))\n",
    "print(next(iterator))"
   ]
  },
  {
   "cell_type": "markdown",
   "id": "2bb08edd-4e6b-45b3-a817-1e1845659756",
   "metadata": {},
   "source": [
    "## Ques4.\n"
   ]
  },
  {
   "cell_type": "markdown",
   "id": "19b4ac27-8303-43e0-80e2-d79819655bf4",
   "metadata": {},
   "source": [
    "Q4. What is a generator function in python? Why yield keyword is used? Give an example of a generator\n",
    "function."
   ]
  },
  {
   "cell_type": "markdown",
   "id": "8e244898-83f7-4b6f-be7a-faf341ae00cd",
   "metadata": {},
   "source": [
    "Ans4. A generator function is used in python to produce a sequence of values when an iterator iterates it.\n",
    "The yield keyword is used to return an object instead of returning a value. This object can be iterated using a for loop to print the values.  "
   ]
  },
  {
   "cell_type": "code",
   "execution_count": 13,
   "id": "c71f3739-5b40-4ff3-9568-d2f1b7633dcd",
   "metadata": {},
   "outputs": [],
   "source": [
    "def fib(n):\n",
    "    a,b = 0,1\n",
    "    for i in range(n):\n",
    "        yield a\n",
    "        a,b = b, a+b\n",
    "        "
   ]
  },
  {
   "cell_type": "code",
   "execution_count": 14,
   "id": "71de3cdc-ac3c-4dee-9291-df74e310f2c7",
   "metadata": {},
   "outputs": [
    {
     "name": "stdout",
     "output_type": "stream",
     "text": [
      "0\n",
      "1\n",
      "1\n",
      "2\n",
      "3\n",
      "5\n",
      "8\n",
      "13\n",
      "21\n",
      "34\n"
     ]
    }
   ],
   "source": [
    "for i in fib(10):\n",
    "    print (i)"
   ]
  },
  {
   "cell_type": "markdown",
   "id": "de1f4558-1aed-4535-af17-539b436195b4",
   "metadata": {},
   "source": [
    "## Ques5."
   ]
  },
  {
   "cell_type": "markdown",
   "id": "64bc558b-d97f-4421-b824-822dd933e821",
   "metadata": {},
   "source": [
    "Q5. Create a generator function for prime numbers less than 1000. Use the next() method to print the\n",
    "first 20 prime numbers."
   ]
  },
  {
   "cell_type": "code",
   "execution_count": 4,
   "id": "4ff22c02-92a6-4c9d-98f9-c076224a7472",
   "metadata": {},
   "outputs": [],
   "source": [
    "def prime_n (n):\n",
    "    for i in range(2,n):\n",
    "        for var in range(2, int(i**0.5)+1):\n",
    "            if i % var ==0:\n",
    "                break \n",
    "           \n",
    "        else : \n",
    "            yield i   \n",
    "     \n",
    "\n",
    "iterator = prime_n(1000)   "
   ]
  },
  {
   "cell_type": "code",
   "execution_count": 6,
   "id": "cab02184-a9d0-404b-b0a0-633c86185df8",
   "metadata": {},
   "outputs": [
    {
     "name": "stdout",
     "output_type": "stream",
     "text": [
      "2\n",
      "3\n",
      "5\n",
      "7\n",
      "11\n",
      "13\n",
      "17\n",
      "19\n",
      "23\n",
      "29\n",
      "31\n",
      "37\n",
      "41\n",
      "43\n",
      "47\n",
      "53\n",
      "59\n",
      "61\n",
      "67\n",
      "71\n"
     ]
    }
   ],
   "source": [
    "for i in range(20):\n",
    "    print(next(iterator))"
   ]
  },
  {
   "cell_type": "code",
   "execution_count": null,
   "id": "41a65e59-02ef-4bd1-9e06-2d2bf4db3951",
   "metadata": {},
   "outputs": [],
   "source": []
  }
 ],
 "metadata": {
  "kernelspec": {
   "display_name": "Python 3 (ipykernel)",
   "language": "python",
   "name": "python3"
  },
  "language_info": {
   "codemirror_mode": {
    "name": "ipython",
    "version": 3
   },
   "file_extension": ".py",
   "mimetype": "text/x-python",
   "name": "python",
   "nbconvert_exporter": "python",
   "pygments_lexer": "ipython3",
   "version": "3.10.8"
  }
 },
 "nbformat": 4,
 "nbformat_minor": 5
}
