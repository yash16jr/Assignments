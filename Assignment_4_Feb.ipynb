{
 "cells": [
  {
   "cell_type": "markdown",
   "id": "155a8d63-d592-4806-b65b-03a66ab4197b",
   "metadata": {},
   "source": [
    "## Ques1."
   ]
  },
  {
   "cell_type": "markdown",
   "id": "1665bc45-d8d7-4d0d-adcb-dc72b3013898",
   "metadata": {},
   "source": [
    "Q1. Create a python program to sort the given list of tuples based on integer value using a\n",
    "lambda function.\n",
    "\n",
    "\n",
    "[('Sachin Tendulkar', 34357), ('Ricky Ponting', 27483), ('Jack Kallis', 25534), ('Virat Kohli', 24936)]"
   ]
  },
  {
   "cell_type": "code",
   "execution_count": 27,
   "id": "9524b8e6-1051-46d7-a837-7b76082ee62a",
   "metadata": {},
   "outputs": [
    {
     "data": {
      "text/plain": [
       "[('Virat Kohli', 24936),\n",
       " ('Jack Kallis', 25534),\n",
       " ('Ricky Ponting', 27483),\n",
       " ('Sachin Tendulkar', 34357)]"
      ]
     },
     "execution_count": 27,
     "metadata": {},
     "output_type": "execute_result"
    }
   ],
   "source": [
    "#Ans1.\n",
    "\n",
    "l1 = [('Sachin Tendulkar', 34357), ('Ricky Ponting', 27483), ('Jack Kallis', 25534), ('Virat Kohli', 24936)]\n",
    "sorted_list = sorted(l1, key = lambda x: x[1] )\n",
    "sorted_list"
   ]
  },
  {
   "cell_type": "markdown",
   "id": "2c27f49b-f9d2-45a1-b8c8-fe772e2a3676",
   "metadata": {},
   "source": [
    "## Ques2."
   ]
  },
  {
   "cell_type": "markdown",
   "id": "ff9eff24-5648-46bb-8f08-4bee3540e2fe",
   "metadata": {},
   "source": [
    "Q2. Write a Python Program to find the squares of all the numbers in the given list of integers using\n",
    "lambda and map functions.\n",
    "\n",
    "\n",
    "\n",
    "[1, 2, 3, 4, 5, 6, 7, 8, 9, 10]"
   ]
  },
  {
   "cell_type": "code",
   "execution_count": 28,
   "id": "f88f5156-744d-4c0e-852b-4704a7198aab",
   "metadata": {},
   "outputs": [
    {
     "data": {
      "text/plain": [
       "[1, 4, 9, 16, 25, 36, 49, 64, 81, 100]"
      ]
     },
     "execution_count": 28,
     "metadata": {},
     "output_type": "execute_result"
    }
   ],
   "source": [
    "lst = [1, 2, 3, 4, 5, 6, 7, 8, 9, 10]\n",
    "sq = list(map(lambda x : x**2, lst))\n",
    "sq"
   ]
  },
  {
   "cell_type": "markdown",
   "id": "52422b14-0a73-455f-b55c-8cef5c2c4e3f",
   "metadata": {},
   "source": [
    "## Ques3."
   ]
  },
  {
   "cell_type": "markdown",
   "id": "622c1120-661e-42e1-8c53-97c78d9c5b40",
   "metadata": {},
   "source": [
    "Q3. Write a python program to convert the given list of integers into a tuple of strings. Use map and\n",
    "lambda functions\n",
    "Given String: [1, 2, 3, 4, 5, 6, 7, 8, 9, 10]\n",
    "Expected output: ('1', '2', '3', '4', '5', '6', '7', '8', '9', '10')"
   ]
  },
  {
   "cell_type": "code",
   "execution_count": 29,
   "id": "6a9d1716-6221-4abd-b6e8-94328c54d8d9",
   "metadata": {},
   "outputs": [
    {
     "data": {
      "text/plain": [
       "('1', '2', '3', '4', '5', '6', '7', '8', '9', '10')"
      ]
     },
     "execution_count": 29,
     "metadata": {},
     "output_type": "execute_result"
    }
   ],
   "source": [
    "lst1 = [1, 2, 3, 4, 5, 6, 7, 8, 9, 10]\n",
    "convert = tuple(map(lambda x : str(x) , lst1))\n",
    "convert"
   ]
  },
  {
   "cell_type": "markdown",
   "id": "70ec3832-4575-4476-9aae-168690dea84a",
   "metadata": {},
   "source": [
    "## Ques4."
   ]
  },
  {
   "cell_type": "markdown",
   "id": "56818f90-3ea2-477c-bb5d-27efe3b4cb74",
   "metadata": {},
   "source": [
    "Q4. Write a python program using reduce function to compute the product of a list containing numbers\n",
    "from 1 to 25."
   ]
  },
  {
   "cell_type": "code",
   "execution_count": 30,
   "id": "983d9648-6ee3-42eb-8536-76f6d5b7cca7",
   "metadata": {},
   "outputs": [
    {
     "data": {
      "text/plain": [
       "15511210043330985984000000"
      ]
     },
     "execution_count": 30,
     "metadata": {},
     "output_type": "execute_result"
    }
   ],
   "source": [
    "from functools import reduce\n",
    "nums = [i for i in range(1,26)]\n",
    "prod =reduce(lambda x,y : x*y, nums )\n",
    "prod"
   ]
  },
  {
   "cell_type": "markdown",
   "id": "1f2a1674-2131-4e4d-8fc9-874453522401",
   "metadata": {},
   "source": [
    "## Ques5."
   ]
  },
  {
   "cell_type": "markdown",
   "id": "e9732609-943d-4dc3-8b51-c8e0c3f58810",
   "metadata": {},
   "source": [
    "Q5. Write a python program to filter the numbers in a given list that are divisible by 2 and 3 using the\n",
    "filter function.\n",
    "[2, 3, 6, 9, 27, 60, 90, 120, 55, 46]"
   ]
  },
  {
   "cell_type": "code",
   "execution_count": 31,
   "id": "b3c72d57-c51c-4842-962c-0b7727b0ab20",
   "metadata": {},
   "outputs": [
    {
     "data": {
      "text/plain": [
       "[6, 60, 90, 120]"
      ]
     },
     "execution_count": 31,
     "metadata": {},
     "output_type": "execute_result"
    }
   ],
   "source": [
    "lst2 = [2, 3, 6, 9, 27, 60, 90, 120, 55, 46]\n",
    "divisible = list(filter(lambda x : x%2==0 and x%3 ==0, lst2))\n",
    "divisible"
   ]
  },
  {
   "cell_type": "markdown",
   "id": "58a48fa0-ab6d-4467-8424-f3362f3a2226",
   "metadata": {},
   "source": [
    "## Ques6."
   ]
  },
  {
   "cell_type": "markdown",
   "id": "4540e058-ca15-4ca6-a3e5-a47c8ebeec62",
   "metadata": {},
   "source": [
    "Q6. Write a python program to find palindromes in the given list of strings using lambda and filter\n",
    "function.\n",
    "['python', 'php', 'aba', 'radar', 'level']"
   ]
  },
  {
   "cell_type": "code",
   "execution_count": 32,
   "id": "9a6c832b-b6d6-4cb1-8dcc-dd3b9b2dad72",
   "metadata": {},
   "outputs": [
    {
     "data": {
      "text/plain": [
       "['php', 'aba', 'radar', 'level']"
      ]
     },
     "execution_count": 32,
     "metadata": {},
     "output_type": "execute_result"
    }
   ],
   "source": [
    "lst3 = ['python', 'php', 'aba', 'radar', 'level']\n",
    "palindrome =  list(filter(lambda x : x == x[::-1], lst3))\n",
    "palindrome"
   ]
  },
  {
   "cell_type": "code",
   "execution_count": null,
   "id": "4a24e5a6-9c06-4b46-9a60-bd813912f35b",
   "metadata": {},
   "outputs": [],
   "source": []
  },
  {
   "cell_type": "code",
   "execution_count": null,
   "id": "5da3423d-19f9-40aa-84c4-a6af5f84dfae",
   "metadata": {},
   "outputs": [],
   "source": []
  }
 ],
 "metadata": {
  "kernelspec": {
   "display_name": "Python 3 (ipykernel)",
   "language": "python",
   "name": "python3"
  },
  "language_info": {
   "codemirror_mode": {
    "name": "ipython",
    "version": 3
   },
   "file_extension": ".py",
   "mimetype": "text/x-python",
   "name": "python",
   "nbconvert_exporter": "python",
   "pygments_lexer": "ipython3",
   "version": "3.10.8"
  }
 },
 "nbformat": 4,
 "nbformat_minor": 5
}
