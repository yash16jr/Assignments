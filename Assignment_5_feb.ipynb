{
 "cells": [
  {
   "cell_type": "markdown",
   "id": "b5ef370a-6bad-4e42-b4fd-74f98dc8629c",
   "metadata": {},
   "source": [
    "## Ques1."
   ]
  },
  {
   "cell_type": "markdown",
   "id": "72dda7fc-42cf-4bb2-87b1-f0bbf55d3da4",
   "metadata": {},
   "source": [
    "Q1. Explain Class and Object with respect to Object-Oriented Programming. Give a suitable example."
   ]
  },
  {
   "cell_type": "markdown",
   "id": "abdf8059-2baf-46c1-af7e-61118df16912",
   "metadata": {},
   "source": [
    "Ans1. \n",
    "\n",
    "\n",
    "Class is a blueprint or a template for creating objects (a particular data structure), providing initial values for state (member variables or attributes), and implementations of behavior (member functions or methods).\n",
    "Whereas, An Object is an instance of a Class. It is a basic unit of Object-Oriented Programming and represents a real-world entity with its properties and behavior.\n",
    "\n",
    "Example:\n",
    "Consider a Class called \"Car\" with attributes such as \"make\", \"model\", and \"year\". The behavior of the Car Class could include \"start engine\", \"accelerate\", and \"stop\".\n",
    "\n",
    "A specific car object can be created using this class, for example, a 2019 Toyota Camry. This object would have the values \"Toyota\" for make, \"Camry\" for model, and \"2019\" for year.\n",
    "\n",
    "\n"
   ]
  },
  {
   "cell_type": "markdown",
   "id": "2f21dcdd-51f8-4809-bca4-d76161ad11dd",
   "metadata": {},
   "source": [
    "## Ques2."
   ]
  },
  {
   "cell_type": "markdown",
   "id": "23dc5917-0d82-4288-81e3-3302977043f7",
   "metadata": {},
   "source": [
    "Q2. Name the four pillars of OOPs."
   ]
  },
  {
   "cell_type": "markdown",
   "id": "458cc68a-1758-40e9-b688-b101fb12a0a1",
   "metadata": {},
   "source": [
    "Ans-2) The four pillars of Object-Oriented Programming (OOP) are:\n",
    "\n",
    "Encapsulation: The wrapping up of data and functions into a single unit (an object). It provides a secure mechanism for hiding the implementation details of a class from other parts of the program.\n",
    "\n",
    "Abstraction: The process of hiding the implementation details and exposing only the essential features of an object, to the users.\n",
    "\n",
    "Inheritance: The mechanism of obtaining the features of a class from another class. It provides a way to create new classes that are built upon existing classes.\n",
    "\n",
    "Polymorphism: The ability of objects to take on multiple forms. It allows objects of different classes to be treated as objects of a common class.\n"
   ]
  },
  {
   "cell_type": "markdown",
   "id": "ee1c1d31-997c-4224-8792-2b5b1760c26c",
   "metadata": {},
   "source": [
    "## Ques3."
   ]
  },
  {
   "cell_type": "markdown",
   "id": "a8f0c9a6-2a93-4017-963a-bd1b721cedb0",
   "metadata": {},
   "source": [
    "Q3. Explain why the __init__() function is used. Give a suitable example."
   ]
  },
  {
   "cell_type": "markdown",
   "id": "8d2600b2-447a-4068-b397-bdd803dddae4",
   "metadata": {},
   "source": [
    "Ans-3) The purpose of the __init__ method is to initialize the attributes of the class, and to set their default values. This way, when an object is created, it's automatically given its initial state.\n",
    "\n"
   ]
  },
  {
   "cell_type": "code",
   "execution_count": 4,
   "id": "8426ef01-5a0f-45dd-bae6-b7be900c65ed",
   "metadata": {},
   "outputs": [
    {
     "name": "stdout",
     "output_type": "stream",
     "text": [
      "Corvette\n",
      "2012\n"
     ]
    }
   ],
   "source": [
    "class Car:\n",
    "    def __init__(self, model, year):\n",
    "        self.model = model\n",
    "        self.year = year\n",
    "\n",
    "car = Car(\"Corvette\", 2012)\n",
    "print(car.model) \n",
    "print(car.year) "
   ]
  },
  {
   "cell_type": "markdown",
   "id": "1e0afd72-e04f-4b96-8500-c2a5f3cdc1ae",
   "metadata": {},
   "source": [
    "## Ques4."
   ]
  },
  {
   "cell_type": "markdown",
   "id": "d0466e40-2599-41c3-b3b0-6c2445467438",
   "metadata": {},
   "source": [
    "Q4. Why self is used in OOPs?"
   ]
  },
  {
   "cell_type": "markdown",
   "id": "78cd1c4c-0aa1-4007-81b5-74387a0e7c5a",
   "metadata": {},
   "source": [
    "Ans.4) Self is a reference to the current instance of the class. It is used to access the attributes and methods of the class within the class definition.\n",
    "\n",
    "When a method is called on an object, the object is automatically passed as the first argument to the method. This argument is usually named self by convention. In the method definition, self refers to the object on which the method was called.\n"
   ]
  },
  {
   "cell_type": "markdown",
   "id": "75516750-1b9b-49e6-86c7-cb21c7e4ac20",
   "metadata": {},
   "source": [
    "## Ques5."
   ]
  },
  {
   "cell_type": "markdown",
   "id": "287f32f5-4f95-4802-8be5-33e3cb704508",
   "metadata": {},
   "source": [
    "Q5. What is inheritance? Give an example for each type of inheritance."
   ]
  },
  {
   "cell_type": "code",
   "execution_count": 5,
   "id": "32233be2-c8fd-4914-9821-51562e65be0c",
   "metadata": {},
   "outputs": [],
   "source": [
    "## Ans5.\n",
    "\n",
    "\n",
    "\n",
    "##1) Single Inheritance: In single inheritance, a derived class inherits from a single base class. For example:\n",
    "\n",
    "class Animal:\n",
    "    def __init__(self, species):\n",
    "        self.species = species\n",
    "\n",
    "    def show_species(self):\n",
    "        print(\"Species:\", self.species)\n",
    "\n",
    "class Dog(Animal):\n",
    "    def __init__(self, breed, name):\n",
    "        Animal.__init__(self, \"Canine\")\n",
    "        self.breed = breed\n",
    "        self.name = name\n",
    "\n",
    "    def show_breed(self):\n",
    "        print(\"Breed:\", self.breed)\n",
    "\n",
    "## 2) Multiple Inheritance: In multiple inheritance, a derived class inherits from multiple base classes. For example:\n",
    "\n",
    "class Animal:\n",
    "    def __init__(self, species):\n",
    "        self.species = species\n",
    "\n",
    "    def show_species(self):\n",
    "        print(\"Species:\", self.species)\n",
    "\n",
    "class Domestic:\n",
    "    def __init__(self, pet):\n",
    "        self.pet = pet\n",
    "\n",
    "    def show_pet(self):\n",
    "        print(\"Pet:\", self.pet)\n",
    "\n",
    "class Dog(Animal, Domestic):\n",
    "    def __init__(self, breed, name):\n",
    "        Animal.__init__(self, \"Canine\")\n",
    "        Domestic.__init__(self, True)\n",
    "        self.breed = breed\n",
    "        self.name = name\n",
    "\n",
    "    def show_breed(self):\n",
    "        print(\"Breed:\", self.breed)\n",
    "\n",
    "## 3) Multi-level Inheritance: In multi-level inheritance, a derived class inherits from a base class, which in turn inherits from another base class. For example:\n",
    "\n",
    "class Animal:\n",
    "    def __init__(self, species):\n",
    "        self.species = species\n",
    "\n",
    "    def show_species(self):\n",
    "        print(\"Species:\", self.species)\n",
    "\n",
    "class Domestic(Animal):\n",
    "    def __init__(self, pet):\n",
    "        Animal.__init__(self, \"Domestic Animal\")\n",
    "        self.pet = pet\n",
    "\n",
    "    def show_pet(self):\n",
    "        print(\"Pet:\", self.pet)\n",
    "\n",
    "class Dog(Domestic):\n",
    "    def __init__(self, breed, name):\n",
    "        Domestic.__init__(self, True)\n",
    "        self.breed = breed\n",
    "        self.name = name\n",
    "\n",
    "    def show_breed(self):\n",
    "        print(\"Breed:\", self.breed)\n",
    "\n",
    "##4) Hierarchical Inheritance: In this type of inheritance, a single class serves as a base class for multiple derived classes. The derived classes inherit the properties and methods of the base class.\n",
    "\n",
    "class Animal:\n",
    "    def __init__(self,name):\n",
    "        self.name = name\n",
    "\n",
    "class Dog(Animal):\n",
    "    def __init__(self,breed):\n",
    "        Animal.__init__(self,'Dog')\n",
    "        self.breed = breed\n",
    "\n",
    "class Cat(Animal):\n",
    "    def __init__(self,fur):\n",
    "        Animal.__init__(self,'Cat')\n",
    "        self.fur = fur\n",
    "\n",
    "dog = Dog('Labrador')\n",
    "cat = Cat('Long Hair')\n",
    "\n",
    "## 5) Hybrid Inheritance: This is a combination of multiple inheritance and hierarchical inheritance. In this type of inheritance, more than one inheritance is combined to form a hybrid inheritance.\n",
    "\n",
    "class Animal:\n",
    "    def __init__(self,name):\n",
    "        self.name = name\n",
    "\n",
    "class Mammal(Animal):\n",
    "    def __init__(self, species):\n",
    "        Animal.__init__(self,'Mammal')\n",
    "        self.species = species\n",
    "\n",
    "class Dog(Mammal):\n",
    "    def __init__(self, breed):\n",
    "        Mammal.__init__(self,'Canine')\n",
    "        self.breed = breed\n",
    "\n",
    "dog = Dog('Labrador')"
   ]
  },
  {
   "cell_type": "code",
   "execution_count": null,
   "id": "57aa7e43-fde9-407c-b31d-083cda9fa2aa",
   "metadata": {},
   "outputs": [],
   "source": []
  },
  {
   "cell_type": "code",
   "execution_count": null,
   "id": "47c7ebb4-828e-4fd4-9011-8113e1ac23a1",
   "metadata": {},
   "outputs": [],
   "source": []
  }
 ],
 "metadata": {
  "kernelspec": {
   "display_name": "Python 3 (ipykernel)",
   "language": "python",
   "name": "python3"
  },
  "language_info": {
   "codemirror_mode": {
    "name": "ipython",
    "version": 3
   },
   "file_extension": ".py",
   "mimetype": "text/x-python",
   "name": "python",
   "nbconvert_exporter": "python",
   "pygments_lexer": "ipython3",
   "version": "3.10.8"
  }
 },
 "nbformat": 4,
 "nbformat_minor": 5
}
