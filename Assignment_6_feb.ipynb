{
 "cells": [
  {
   "cell_type": "markdown",
   "id": "f6ae27a7-943f-4299-a505-c5bbbefdfe79",
   "metadata": {},
   "source": [
    "## Ans1"
   ]
  },
  {
   "cell_type": "code",
   "execution_count": 22,
   "id": "bbe6a24a-078b-4295-9e89-337492ed78c2",
   "metadata": {},
   "outputs": [],
   "source": [
    "import numpy as np"
   ]
  },
  {
   "cell_type": "code",
   "execution_count": 23,
   "id": "944510da-f767-47b8-97c8-7ad6acb52082",
   "metadata": {},
   "outputs": [],
   "source": [
    "list1 = [1,2,3,4, [44,55,66, True], False, (34,56,78,89,34), {1,2,3,3,2,1}, {1:34, \"key2\": [55, 67, 78, 89], 4: (45,\n",
    "22, 61, 34)}, [56, 'data science'], 'Machine Learning']"
   ]
  },
  {
   "cell_type": "code",
   "execution_count": 24,
   "id": "687ba956-7be4-40c5-a265-8442dff9ca44",
   "metadata": {},
   "outputs": [],
   "source": [
    "flat_list = []\n",
    "def product_of_numbers(list1):\n",
    "    for i in list1:\n",
    "        if type(i) == int or type(i) == float:\n",
    "            flat_list.append(i)\n",
    "        elif type(i) == tuple:\n",
    "            for j in i:\n",
    "                if type(j) == int or type(j) == float:\n",
    "                    flat_list.append(j)\n",
    "        elif type(i) == list:\n",
    "            for j in i:\n",
    "                if type(j) == int or type(j) == float:\n",
    "                    flat_list.append(j)\n",
    "        elif type(i) == set:\n",
    "            for j in i:\n",
    "                if type(j) == int or type(j) == float:\n",
    "                    flat_list.append(j)\n",
    "        elif type(i) == dict:\n",
    "            for key, value in i.items():\n",
    "                if type(key) == int or type(key) == float:\n",
    "                    flat_list.append(key)\n",
    "                if type(value) == int or type(value) == float:\n",
    "                    flat_list.append(value)\n",
    "                if type(value) == list:\n",
    "                    flat_list.extend(value)\n",
    "                if type(value) == tuple:\n",
    "                    flat_list.extend(list(value))\n",
    "                    \n",
    "    product = 1                \n",
    "    for num in flat_list:\n",
    "        if type(num) == int or type(num) == float:\n",
    "            product *= num\n",
    "    return product            "
   ]
  },
  {
   "cell_type": "code",
   "execution_count": 25,
   "id": "dba46970-9fcb-4776-8e10-626edc66aa48",
   "metadata": {},
   "outputs": [
    {
     "data": {
      "text/plain": [
       "4134711838987085478833841242112000"
      ]
     },
     "execution_count": 25,
     "metadata": {},
     "output_type": "execute_result"
    }
   ],
   "source": [
    " product_of_numbers(list1)"
   ]
  },
  {
   "cell_type": "markdown",
   "id": "660814c3-bf91-4516-974b-17315c2027dc",
   "metadata": {},
   "source": [
    "## Ans2"
   ]
  },
  {
   "cell_type": "code",
   "execution_count": 26,
   "id": "2ed70946-31bf-4993-8d00-21105e7cad34",
   "metadata": {},
   "outputs": [],
   "source": [
    "message = 'I want to become a Data Scientist'\n",
    "def encrypt(message):\n",
    "    message = message.lower()\n",
    "    output = ''\n",
    "    for char in message:\n",
    "        if char == ' ':\n",
    "            output += '$' \n",
    "        elif char in 'abcdefghijklmnopqrstuvwxyz':\n",
    "            output += chr(122 - ord(char) + 97) \n",
    "        else:\n",
    "            output += char \n",
    "    return output   "
   ]
  },
  {
   "cell_type": "code",
   "execution_count": 27,
   "id": "30104785-171e-4df9-a582-b48e5a07dd80",
   "metadata": {},
   "outputs": [
    {
     "data": {
      "text/plain": [
       "'r$dzmg$gl$yvxlnv$z$wzgz$hxrvmgrhg'"
      ]
     },
     "execution_count": 27,
     "metadata": {},
     "output_type": "execute_result"
    }
   ],
   "source": [
    "encrypt(message)"
   ]
  },
  {
   "cell_type": "code",
   "execution_count": null,
   "id": "a0821503-88f6-4a69-932c-e8072cce7efc",
   "metadata": {},
   "outputs": [],
   "source": []
  },
  {
   "cell_type": "code",
   "execution_count": null,
   "id": "0cfdd2a7-e226-46d8-8323-320004e50878",
   "metadata": {},
   "outputs": [],
   "source": []
  }
 ],
 "metadata": {
  "kernelspec": {
   "display_name": "Python 3 (ipykernel)",
   "language": "python",
   "name": "python3"
  },
  "language_info": {
   "codemirror_mode": {
    "name": "ipython",
    "version": 3
   },
   "file_extension": ".py",
   "mimetype": "text/x-python",
   "name": "python",
   "nbconvert_exporter": "python",
   "pygments_lexer": "ipython3",
   "version": "3.10.8"
  }
 },
 "nbformat": 4,
 "nbformat_minor": 5
}
