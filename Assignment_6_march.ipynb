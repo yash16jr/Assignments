{
 "cells": [
  {
   "cell_type": "markdown",
   "id": "943e9541-7686-4915-a830-9c8b42a16e11",
   "metadata": {},
   "source": [
    "## Ans1."
   ]
  },
  {
   "cell_type": "markdown",
   "id": "4ea24125-ed59-464d-8fae-8a75698c7cec",
   "metadata": {},
   "source": [
    "Statistics is the science of developing and studying methods for collecting, analyzing, interpreting and presenting empirical data."
   ]
  },
  {
   "cell_type": "markdown",
   "id": "a997a871-f31c-4dac-86a4-8d25785e7368",
   "metadata": {},
   "source": [
    "## Ans2"
   ]
  },
  {
   "cell_type": "markdown",
   "id": "3e908941-4ac3-4632-ba4c-22c12b62543f",
   "metadata": {},
   "source": [
    "Different types of statistics are:\n",
    "1. Descriptive :<br>\n",
    "It is related to organizing and summarizing the data.<br>\n",
    "Example: When we have to calculate the mean of marks in a class, Descriptive stats will be used as we are using measure of central tendency.\n",
    "\n",
    "\n",
    "\n",
    "2. Inferential: It consists of using the data to draw conclusions from it.<br>\n",
    "Example:When estimating the number of vaccines a child has taken, we can take a sapmle from a city and use that sample to calculate average number of vaccines a child has got. "
   ]
  },
  {
   "cell_type": "markdown",
   "id": "83c16dca-eb04-42c3-a270-fabfb5cccd2c",
   "metadata": {},
   "source": [
    "## Ans3"
   ]
  },
  {
   "cell_type": "markdown",
   "id": "87f6ee1e-5bd2-438b-b2d3-b3daf2af9603",
   "metadata": {},
   "source": [
    "Different types of data are:<br>\n",
    "1.Quantitative :<br>\n",
    "        a). Discrete:<br>It has whole numbers as values, values can not be in decimal or floating point<br> Example:number of children.<br>\n",
    "        b). Continuous:<br>It can have decimal or floating point numbers.<br> Example: weight\n",
    "        \n",
    "        \n",
    "2.Qualitative:<br>\n",
    "        a) Nominal: <br> In this type of data, order or rank of categories does not matters.And the data is divided into fixed categories.<br> Example: A set of colors.<br>\n",
    "        b) Ordinal:<br> In this type of data order or rank of categories does matters.<br> Example: Ratings of a product.\n",
    "        \n"
   ]
  },
  {
   "cell_type": "markdown",
   "id": "a335d600-8b1c-49dd-9c6f-d7a12d022a5a",
   "metadata": {},
   "source": [
    "## Ans4"
   ]
  },
  {
   "cell_type": "markdown",
   "id": "1f31f715-5c7d-43a4-9fb4-19eff5b452ea",
   "metadata": {},
   "source": [
    "1). Ordinal<br>\n",
    "2). Nominal<br>\n",
    "3).Continuous<br>\n",
    "4).Discrete"
   ]
  },
  {
   "cell_type": "markdown",
   "id": "9844498a-7521-4dcd-ab7f-a1cf3d4b012b",
   "metadata": {},
   "source": [
    "## Ans5"
   ]
  },
  {
   "cell_type": "markdown",
   "id": "c4cfaa82-dc8c-4972-9813-d84c270c602f",
   "metadata": {},
   "source": [
    "Levels of measurement signify the attributes of the data that can be measured and should be taken into consideration<br>\n",
    "1. Nominal Scale Data: Gender of children in a class. The diffrence between the genders can not be measured.<br>\n",
    "2. Ordinal Scale Data : Cleanliness of a classroom. Can be ranked but the difference cannot be measured. <br>\n",
    "3. Interval Scale Data: Temperature of a city. The temperature can be negative and rthe difference can be measured<br>\n",
    "4. Ratio Scale Data: Marks of students in a class. The difference between the marks can be measured.<br>"
   ]
  },
  {
   "cell_type": "markdown",
   "id": "cd517698-8edd-474a-a8a8-ceb07ef1deac",
   "metadata": {},
   "source": [
    "## Ans6"
   ]
  },
  {
   "cell_type": "markdown",
   "id": "b811548c-fb12-4959-a7dd-e40cd487f447",
   "metadata": {},
   "source": [
    "It is important to understand the level of measurement of data to be able to perform the best suited analysis and avoid any miscalculation that may happen due to incorrect selection of an algorithm or processing.\n",
    "\n",
    "\n",
    "Example: suppose we get a dataset of a sensor reading showing the number of people crossing a certain gateway. We notice that the \"no_of_people\" column has some negative values. But as number of people is a ratio scale data and cannot be negative, we can identify that there was some error in data collection. "
   ]
  },
  {
   "cell_type": "markdown",
   "id": "c5466bea-5990-4e09-aa6c-c37fd3c2a14e",
   "metadata": {},
   "source": [
    "## Ans7"
   ]
  },
  {
   "cell_type": "markdown",
   "id": "da9d9d5e-1666-48c3-abdb-07bde1d16738",
   "metadata": {},
   "source": [
    "Nominal data has fixed categoris that data is classified into. The rank and order of the categories does not matter. Whereas in ordinal data, rank and order of the categories does matters. "
   ]
  },
  {
   "cell_type": "markdown",
   "id": "4b5c6e75-d304-460c-ad34-cc16dac0f796",
   "metadata": {},
   "source": [
    "## Ans8"
   ]
  },
  {
   "cell_type": "markdown",
   "id": "4ff678eb-8fd4-47cd-803c-12fd7eb0608c",
   "metadata": {},
   "source": [
    "Histogram can be used to dispaly data in terms of range."
   ]
  },
  {
   "cell_type": "markdown",
   "id": "f759a001-604a-41b5-9226-21365cc76ce5",
   "metadata": {},
   "source": [
    "## Ans9"
   ]
  },
  {
   "cell_type": "markdown",
   "id": "0a81e27b-d498-4814-9691-8e41380e745f",
   "metadata": {},
   "source": [
    "Descriptive :<br>\n",
    "It is related to organizing and summarizing the data.It derives insights from the data and sumamrise it. <br>\n",
    "Example: Calculation of mean of marks.\n",
    "\n",
    "\n",
    "Inferential:<br>\n",
    "It consists of using the data to draw conclusions from it.<br>\n",
    "Example: Stock market analysis to conclude whether to buy a stock. \n",
    "\n"
   ]
  },
  {
   "cell_type": "markdown",
   "id": "763736eb-f5d3-49fc-9788-57bce56afd86",
   "metadata": {},
   "source": [
    "# Ans10"
   ]
  },
  {
   "cell_type": "markdown",
   "id": "ba192cf8-1be7-4bb5-9885-e381a8c2a740",
   "metadata": {},
   "source": [
    "The most common measures of central tendency are:\n",
    "1. Mean  2. Median 3. Mode\n",
    "\n",
    "Mean gives the average of the values.<br>\n",
    "Median gives the middle term.<br>\n",
    "Mode gives the most occuring term."
   ]
  },
  {
   "cell_type": "code",
   "execution_count": null,
   "id": "b17eb6e1-ca06-4553-8283-2b64bc70f530",
   "metadata": {},
   "outputs": [],
   "source": []
  }
 ],
 "metadata": {
  "kernelspec": {
   "display_name": "Python 3 (ipykernel)",
   "language": "python",
   "name": "python3"
  },
  "language_info": {
   "codemirror_mode": {
    "name": "ipython",
    "version": 3
   },
   "file_extension": ".py",
   "mimetype": "text/x-python",
   "name": "python",
   "nbconvert_exporter": "python",
   "pygments_lexer": "ipython3",
   "version": "3.10.8"
  }
 },
 "nbformat": 4,
 "nbformat_minor": 5
}
