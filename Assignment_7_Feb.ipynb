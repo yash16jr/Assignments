{
 "cells": [
  {
   "cell_type": "markdown",
   "id": "82a48047-b4e9-4d2e-b769-9315ef7b62c4",
   "metadata": {},
   "source": [
    "## Ans1"
   ]
  },
  {
   "cell_type": "code",
   "execution_count": 2,
   "id": "afaf5212-db5d-4c04-b409-a413a091e233",
   "metadata": {},
   "outputs": [
    {
     "name": "stdin",
     "output_type": "stream",
     "text": [
      "Password: PPhsdfhvrey&*52*\n"
     ]
    },
    {
     "name": "stdout",
     "output_type": "stream",
     "text": [
      "Valid Password\n"
     ]
    }
   ],
   "source": [
    "\n",
    "def check_password(password):\n",
    "   \n",
    "    if len(password) < 10:\n",
    "        return \"Invalid Password\"\n",
    "\n",
    "    upper_count = sum(c.isupper() for c in password)\n",
    "    if upper_count < 2:\n",
    "        return \"Invalid Password\"\n",
    "\n",
    "    lower_count = sum(c.islower() for c in password)\n",
    "    if lower_count < 2:\n",
    "        return \"Invalid Password\"\n",
    "\n",
    "    if not any(c.isdigit() for c in password):\n",
    "        return \"Invalid Password\"\n",
    "\n",
    "    special_count = sum(not c.isalnum() for c in password)\n",
    "    if special_count < 3:\n",
    "        return \"Invalid Password\"\n",
    "\n",
    "    return \"Valid Password\"\n",
    "password = input(\"Password:\")\n",
    "print(check_password(password))"
   ]
  },
  {
   "cell_type": "markdown",
   "id": "818fc561-7f1f-4972-b58c-a830447a8f78",
   "metadata": {},
   "source": [
    "## Ans2"
   ]
  },
  {
   "cell_type": "markdown",
   "id": "b4db3d44-5f3e-49dc-b34e-111391250326",
   "metadata": {},
   "source": [
    "Check if the string starts with a particular letter:"
   ]
  },
  {
   "cell_type": "code",
   "execution_count": 3,
   "id": "5271a727-a150-4b35-b8d7-30efb0a270ae",
   "metadata": {},
   "outputs": [
    {
     "name": "stdout",
     "output_type": "stream",
     "text": [
      "True\n"
     ]
    }
   ],
   "source": [
    "string = lambda x,char : x.startswith(char)\n",
    "print(string(\"Pwskills\", 'P'))"
   ]
  },
  {
   "cell_type": "markdown",
   "id": "6e1f2ab4-32cb-4725-ae4e-b5167e37c589",
   "metadata": {},
   "source": [
    "Check if the string is numeric"
   ]
  },
  {
   "cell_type": "code",
   "execution_count": 4,
   "id": "10694337-1404-4c72-bfc1-798f046f6382",
   "metadata": {},
   "outputs": [
    {
     "name": "stdout",
     "output_type": "stream",
     "text": [
      "True\n"
     ]
    }
   ],
   "source": [
    "numeric = lambda x: x.isnumeric()\n",
    "print(numeric('12355'))"
   ]
  },
  {
   "cell_type": "markdown",
   "id": "1d91d330-76c2-4431-a5e2-a5caf846fa7c",
   "metadata": {},
   "source": [
    "Sort a list of tuples having fruit names and their quantity. [(\"mango\",99),(\"orange\",80),(\"grapes\", 1000)-"
   ]
  },
  {
   "cell_type": "code",
   "execution_count": 13,
   "id": "727a3ff1-0e3a-46ab-8522-cfa79ee0b4f0",
   "metadata": {},
   "outputs": [
    {
     "name": "stdout",
     "output_type": "stream",
     "text": [
      "[('orange', 80), ('mango', 99), ('grapes', 1000)]\n"
     ]
    }
   ],
   "source": [
    "fruits = [(\"mango\", 99), (\"orange\", 80), (\"grapes\", 1000)]\n",
    "sorted_fruits = sorted(fruits, key=lambda x: x[1])\n",
    "print(sorted_fruits)\n"
   ]
  },
  {
   "cell_type": "code",
   "execution_count": 18,
   "id": "2a625a9d-5085-4914-8c6d-b7d2891b2a36",
   "metadata": {},
   "outputs": [],
   "source": [
    "l1 = [1,2,3,4,5,6,7,8,9,10]\n",
    "def sq(x):\n",
    "    return x**2"
   ]
  },
  {
   "cell_type": "code",
   "execution_count": 19,
   "id": "b1423ebd-17ed-4511-8bc4-22bab38cd770",
   "metadata": {},
   "outputs": [
    {
     "data": {
      "text/plain": [
       "[1, 4, 9, 16, 25, 36, 49, 64, 81, 100]"
      ]
     },
     "execution_count": 19,
     "metadata": {},
     "output_type": "execute_result"
    }
   ],
   "source": [
    "list(map(sq,l1))"
   ]
  },
  {
   "cell_type": "code",
   "execution_count": 20,
   "id": "c43a73db-a13f-4de9-b53c-4b62422c7aee",
   "metadata": {},
   "outputs": [
    {
     "name": "stdout",
     "output_type": "stream",
     "text": [
      "[1.0, 1.2599210498948734, 1.4422495703074083, 1.5874010519681996, 1.7099759466766968, 1.8171205928321394, 1.9129311827723894, 2.0, 2.080083823051904, 2.1544346900318834]\n"
     ]
    }
   ],
   "source": [
    "import numpy\n",
    "cuberoot_numbers = [numpy.cbrt(x) for x in range(1, 11)]\n",
    "print(cuberoot_numbers)"
   ]
  },
  {
   "cell_type": "code",
   "execution_count": 21,
   "id": "8866167a-67e7-4740-8657-05d86bab8417",
   "metadata": {},
   "outputs": [
    {
     "name": "stdout",
     "output_type": "stream",
     "text": [
      "True\n"
     ]
    }
   ],
   "source": [
    "is_even = lambda x: x % 2 == 0\n",
    "print(is_even(4)) "
   ]
  },
  {
   "cell_type": "code",
   "execution_count": 22,
   "id": "fa632e9f-b575-4f94-880b-fcabd7288da8",
   "metadata": {},
   "outputs": [
    {
     "name": "stdout",
     "output_type": "stream",
     "text": [
      "[1, 3, 5, 7, 9]\n"
     ]
    }
   ],
   "source": [
    "numbers = [1, 2, 3, 4, 5, 6, 7, 8, 9, 10]\n",
    "odd_numbers = list(filter(lambda x: x % 2 != 0, numbers))\n",
    "print(odd_numbers) "
   ]
  },
  {
   "cell_type": "code",
   "execution_count": 23,
   "id": "da109a5f-a503-46fe-957a-94a6e93aaad2",
   "metadata": {},
   "outputs": [
    {
     "name": "stdout",
     "output_type": "stream",
     "text": [
      "[1, 2, 3, 4, 5, 6]\n",
      "[-1, -2, -3, -4, -5]\n"
     ]
    }
   ],
   "source": [
    "numbers = [1, 2, 3, 4, 5, 6, -1, -2, -3, -4, -5, 0]\n",
    "positive_numbers = list(filter(lambda x: x > 0, numbers))\n",
    "negative_numbers = list(filter(lambda x: x < 0, numbers))\n",
    "print(positive_numbers) \n",
    "print(negative_numbers) "
   ]
  },
  {
   "cell_type": "code",
   "execution_count": null,
   "id": "162c127b-d8f1-43d7-a192-7404c577ce35",
   "metadata": {},
   "outputs": [],
   "source": []
  }
 ],
 "metadata": {
  "kernelspec": {
   "display_name": "Python 3 (ipykernel)",
   "language": "python",
   "name": "python3"
  },
  "language_info": {
   "codemirror_mode": {
    "name": "ipython",
    "version": 3
   },
   "file_extension": ".py",
   "mimetype": "text/x-python",
   "name": "python",
   "nbconvert_exporter": "python",
   "pygments_lexer": "ipython3",
   "version": "3.10.8"
  }
 },
 "nbformat": 4,
 "nbformat_minor": 5
}
