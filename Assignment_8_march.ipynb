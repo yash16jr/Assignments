{
 "cells": [
  {
   "cell_type": "markdown",
   "id": "58eea5f7-1b3c-402b-8e3e-827d703120a0",
   "metadata": {},
   "source": [
    "## Ans1"
   ]
  },
  {
   "cell_type": "markdown",
   "id": "d1b3da57-f8f2-4188-949c-dbc77436a77a",
   "metadata": {},
   "source": [
    "Probability density function (PDF) is a function that describes the relative likelihood of a continuous random variable taking on a particular value. It is a function that gives the probability of a random variable being within a certain range of values."
   ]
  },
  {
   "cell_type": "markdown",
   "id": "48f87164-3fbb-466c-b574-147c06ede0d5",
   "metadata": {},
   "source": [
    "## Ans2"
   ]
  },
  {
   "cell_type": "markdown",
   "id": "49a0debc-70b6-407d-9211-79e13e0e364a",
   "metadata": {},
   "source": [
    "The probability distribution function is of three types:<br>\n",
    "1. Probability density function: is a function that describes the relative likelihood of a continuous random variable taking on a particular value<br>\n",
    "2. Probability mass function (PMF):  is a function that gives the probability that a discrete random variable takes on a specific value. It is a function that maps each possible value of a discrete random variable to the probability of that value occurring.<br>\n",
    "3. Cumulative distribution function (CDF): is a function that gives the probability that a random variable X is less than or equal to a certain value x.It is a function that maps each possible value of X to the probability that X is less than or equal to that value."
   ]
  },
  {
   "cell_type": "markdown",
   "id": "c210d49a-2999-42c0-84af-df0e0b02dda4",
   "metadata": {},
   "source": [
    "## Ans3"
   ]
  },
  {
   "cell_type": "code",
   "execution_count": 12,
   "id": "5dabf613-f3c1-4914-9275-00c65a4c7490",
   "metadata": {},
   "outputs": [],
   "source": [
    "from scipy.stats import norm\n",
    "def normal_pdf(x, mean, std_dev):\n",
    "    return norm.pdf(x, mean, std_dev)"
   ]
  },
  {
   "cell_type": "code",
   "execution_count": 13,
   "id": "19b74b02-2989-4ac8-9390-5d1b865c2a00",
   "metadata": {},
   "outputs": [
    {
     "data": {
      "text/plain": [
       "0.24197072451914337"
      ]
     },
     "execution_count": 13,
     "metadata": {},
     "output_type": "execute_result"
    }
   ],
   "source": [
    "normal_pdf(1,2,1)"
   ]
  },
  {
   "cell_type": "markdown",
   "id": "b662fbf2-b353-439a-8928-8c9758634913",
   "metadata": {},
   "source": [
    "## Ans4"
   ]
  },
  {
   "cell_type": "markdown",
   "id": "34047c1b-2c6b-47d9-aa3e-1d72ff1f7df4",
   "metadata": {},
   "source": [
    "Properties of binomial distribution:<br>\n",
    "It has binary outcomes.<br>\n",
    "The number of trials is fixed<br>\n",
    "It is the repetitive form of Bernaulli distribution<br>\n",
    "\n",
    "\n",
    "two examples where binomial distribution can be applied are:<br>\n",
    "1. Tossing of coin 50 times<br>\n",
    "2. Quality control in manufacturing industry by testing multiple products."
   ]
  },
  {
   "cell_type": "markdown",
   "id": "6a9c742d-f9fa-40b1-8045-5a5c291a0717",
   "metadata": {},
   "source": [
    "## Ans5"
   ]
  },
  {
   "cell_type": "code",
   "execution_count": 14,
   "id": "f9825c30-1de2-4454-a2bd-d1c3b4b069bb",
   "metadata": {},
   "outputs": [
    {
     "data": {
      "image/png": "[encoded data removed]",
      "text/plain": [
       "<Figure size 640x480 with 1 Axes>"
      ]
     },
     "metadata": {},
     "output_type": "display_data"
    }
   ],
   "source": [
    "import numpy as np\n",
    "import matplotlib.pyplot as plt\n",
    "n = 1000  \n",
    "p = 0.4    \n",
    "sample = np.random.binomial(n, p, size=1000)\n",
    "plt.hist(sample, bins=20, alpha=0.5, color='blue')\n",
    "plt.xlabel('Number of successes')\n",
    "plt.ylabel('Frequency')\n",
    "plt.show()\n"
   ]
  },
  {
   "cell_type": "markdown",
   "id": "a9ad960d-3152-476d-bd0c-9f38e4e31b31",
   "metadata": {},
   "source": [
    "## Ans6"
   ]
  },
  {
   "cell_type": "code",
   "execution_count": 15,
   "id": "cb3c8dd6-ef72-4206-9c9a-c3d8578619aa",
   "metadata": {},
   "outputs": [],
   "source": [
    "from scipy.stats import poisson\n",
    "def poisson_cdf(x, mean):\n",
    "    return poisson.cdf(x, mean)\n"
   ]
  },
  {
   "cell_type": "code",
   "execution_count": 16,
   "id": "c0fecbcc-40b7-4a27-92dc-b16190d093db",
   "metadata": {},
   "outputs": [
    {
     "data": {
      "text/plain": [
       "0.857123460498547"
      ]
     },
     "execution_count": 16,
     "metadata": {},
     "output_type": "execute_result"
    }
   ],
   "source": [
    "poisson_cdf(3, 2)"
   ]
  },
  {
   "cell_type": "markdown",
   "id": "585d9c2f-f352-4997-b0f7-5ed351196fde",
   "metadata": {},
   "source": [
    "## Ans7"
   ]
  },
  {
   "cell_type": "markdown",
   "id": "df2832a8-9b6b-465b-a862-bd9accc6b40b",
   "metadata": {},
   "source": [
    "Binomial distribution differs from poissons distribution as:<br>\n",
    "\n",
    "\n",
    "\n",
    "The Binomial distribution is used to model the number of successes in a fixed number of independent trials, while the Poisson distribution is used to model the number of events that occur in a fixed interval of time or space.<br>\n",
    "In the Binomial distribution, the probability of success is constant for each trial, while in the Poisson distribution, the probability of an event occurring is assumed to be small and constant for each unit of time or space.<br>\n",
    "The Binomial distribution is generally bell-shaped, while the Poisson distribution is generally skewed to the right.<br>\n",
    "The mean and variance of the Binomial distribution depend on the number of trials and the probability of success, while the mean and variance of the Poisson distribution depend on the rate parameter, which is the average number of events per unit of time or space.<br>\n"
   ]
  },
  {
   "cell_type": "markdown",
   "id": "7293670a-5e39-47fa-be78-61e4b73d7230",
   "metadata": {},
   "source": [
    "## Ans8"
   ]
  },
  {
   "cell_type": "code",
   "execution_count": 17,
   "id": "208a8a73-fb73-4a1c-8de7-44afc55c4444",
   "metadata": {},
   "outputs": [
    {
     "name": "stdout",
     "output_type": "stream",
     "text": [
      "Sample mean: 5.057\n",
      "Sample variance: 5.0337510000000005\n"
     ]
    }
   ],
   "source": [
    "import numpy as np\n",
    "mean = 5\n",
    "sample = np.random.poisson(mean, size=1000)\n",
    "sample_mean = np.mean(sample)\n",
    "sample_var = np.var(sample)\n",
    "print(\"Sample mean:\", sample_mean)\n",
    "print(\"Sample variance:\", sample_var)\n"
   ]
  },
  {
   "cell_type": "markdown",
   "id": "acdbed9e-2d6b-4d29-a364-7203b9880b7d",
   "metadata": {},
   "source": [
    "## Ans9"
   ]
  },
  {
   "cell_type": "markdown",
   "id": "b7447e66-8f23-421b-8516-d8615b487992",
   "metadata": {},
   "source": [
    "In the Binomial distribution, the mean is equal to the product of the number of trials (n) and the probability of success (p). mean = np. The variance of the Binomial distribution is equal to the product of the number of trials, the probability of success, and the probability of failure (q = 1-p). That is, variance = npq.<br>\n",
    "In the Poisson distribution, the mean and variance are both equal to the rate parameter (λ). That is, mean = variance = λ."
   ]
  },
  {
   "cell_type": "markdown",
   "id": "2ad6164b-1d26-4fb4-b1fa-33a86ec21ced",
   "metadata": {},
   "source": [
    "## Ans10"
   ]
  },
  {
   "cell_type": "markdown",
   "id": "3b28c9b7-0a03-47fe-9751-e16d50424ee0",
   "metadata": {},
   "source": [
    "In normal distribution the least frequent data appears at the farthest point on both sides from the mean. Since most of the data is accumulated near the mean, the chances of data being frequent also increases."
   ]
  },
  {
   "cell_type": "code",
   "execution_count": null,
   "id": "deb9328f-7909-4349-8492-66049a279a05",
   "metadata": {},
   "outputs": [],
   "source": []
  },
  {
   "cell_type": "code",
   "execution_count": null,
   "id": "45230964-022e-4170-8ba4-0ccad78bdbb4",
   "metadata": {},
   "outputs": [],
   "source": []
  }
 ],
 "metadata": {
  "kernelspec": {
   "display_name": "Python 3 (ipykernel)",
   "language": "python",
   "name": "python3"
  },
  "language_info": {
   "codemirror_mode": {
    "name": "ipython",
    "version": 3
   },
   "file_extension": ".py",
   "mimetype": "text/x-python",
   "name": "python",
   "nbconvert_exporter": "python",
   "pygments_lexer": "ipython3",
   "version": "3.10.8"
  }
 },
 "nbformat": 4,
 "nbformat_minor": 5
}
