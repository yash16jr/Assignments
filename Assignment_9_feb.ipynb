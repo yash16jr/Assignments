{
 "cells": [
  {
   "cell_type": "markdown",
   "id": "780ae1b7-d112-4fe1-b2dc-b5c04ad2658c",
   "metadata": {},
   "source": [
    "## Ques1."
   ]
  },
  {
   "cell_type": "markdown",
   "id": "c24dfa22-643b-494e-b7a1-62ebeaf7143d",
   "metadata": {},
   "source": [
    "Q1, Create a vehicle class with an init method having instance variables as name_of_vehicle, max_speed\n",
    "and average_of_vehicle."
   ]
  },
  {
   "cell_type": "code",
   "execution_count": 49,
   "id": "e96574be-1cd7-47ee-8a65-872de676c8bb",
   "metadata": {},
   "outputs": [
    {
     "name": "stdout",
     "output_type": "stream",
     "text": [
      "car\n",
      "200\n",
      "1500\n"
     ]
    }
   ],
   "source": [
    "class vehicle:\n",
    "    \n",
    "    def __init__(self,name_of_vehicle,max_speed, average_of_vehicle):\n",
    "        self.name_of_vehicle = name_of_vehicle\n",
    "        self.max_speed = max_speed\n",
    "        self.average_of_vehicle = average_of_vehicle\n",
    "        \n",
    "my_vehicle = vehicle('car', 200, 1500)\n",
    "print(my_vehicle.name_of_vehicle)\n",
    "print(my_vehicle.max_speed)\n",
    "print(my_vehicle.average_of_vehicle)\n",
    "        "
   ]
  },
  {
   "cell_type": "markdown",
   "id": "6ee4e074-696b-42f5-b0af-7ba74967c3a2",
   "metadata": {},
   "source": [
    "## Ques2."
   ]
  },
  {
   "cell_type": "markdown",
   "id": "f80256f2-fc58-48db-aed1-0404867642f1",
   "metadata": {},
   "source": [
    "Q2. Create a child class car from the vehicle class created in Que 1, which will inherit the vehicle class.\n",
    "Create a method named seating_capacity which takes capacity as an argument and returns the name of\n",
    "the vehicle and its seating capacity."
   ]
  },
  {
   "cell_type": "code",
   "execution_count": 50,
   "id": "213938a8-043d-4da1-87d5-be60ef0d55ec",
   "metadata": {},
   "outputs": [],
   "source": [
    "class car(vehicle):\n",
    "    \n",
    "    def seating_capacity(self, capacity):\n",
    "        return self.name_of_vehicle, capacity\n",
    "        "
   ]
  },
  {
   "cell_type": "code",
   "execution_count": 51,
   "id": "4c93e0ff-48e2-4fa7-9df1-b523fecc2414",
   "metadata": {},
   "outputs": [],
   "source": [
    "car_obj = car('Suv', 200, 1500)"
   ]
  },
  {
   "cell_type": "code",
   "execution_count": 52,
   "id": "7a540ace-03fe-44bb-a25e-ec13a810a891",
   "metadata": {},
   "outputs": [
    {
     "data": {
      "text/plain": [
       "('Suv', 6)"
      ]
     },
     "execution_count": 52,
     "metadata": {},
     "output_type": "execute_result"
    }
   ],
   "source": [
    "car_obj.seating_capacity(6)"
   ]
  },
  {
   "cell_type": "markdown",
   "id": "7c56276a-28e9-4b1b-86b6-be5af3e7215b",
   "metadata": {},
   "source": [
    "## Ques3."
   ]
  },
  {
   "cell_type": "markdown",
   "id": "d5c4de2c-a6a1-4303-bda5-7998e162f71b",
   "metadata": {},
   "source": [
    "Q3. What is multiple inheritance? Write a python code to demonstrate multiple inheritance."
   ]
  },
  {
   "cell_type": "markdown",
   "id": "f48d2645-b827-4c9c-a327-fab130668532",
   "metadata": {},
   "source": [
    "Ans3. Multiple inheritance is a type of inheritance in which a class inherits the attributes from multiple classes."
   ]
  },
  {
   "cell_type": "code",
   "execution_count": 53,
   "id": "c7d3b9b0-2703-4406-bfd6-f00350402374",
   "metadata": {},
   "outputs": [],
   "source": [
    "class class_1 :\n",
    "    def method1(self):\n",
    "        print('I am method1 from class 1')"
   ]
  },
  {
   "cell_type": "code",
   "execution_count": 54,
   "id": "bdfcb5ee-27aa-4fd1-bd91-d5d57779b0c1",
   "metadata": {},
   "outputs": [],
   "source": [
    "class class_2:\n",
    "    def method2(self):\n",
    "        print('I am method2 from class 2')\n",
    "        "
   ]
  },
  {
   "cell_type": "code",
   "execution_count": 55,
   "id": "c5f1a313-eb5f-4ebf-a49b-40956b992006",
   "metadata": {},
   "outputs": [],
   "source": [
    "class class_3(class_1, class_2):\n",
    "    pass"
   ]
  },
  {
   "cell_type": "code",
   "execution_count": 56,
   "id": "5a7eb777-7ae0-42c2-849b-c9197cf55ef8",
   "metadata": {},
   "outputs": [
    {
     "name": "stdout",
     "output_type": "stream",
     "text": [
      "I am method1 from class 1\n",
      "I am method2 from class 2\n"
     ]
    }
   ],
   "source": [
    "class_3_obj = class_3()\n",
    "class_3_obj.method1()\n",
    "class_3_obj.method2()"
   ]
  },
  {
   "cell_type": "markdown",
   "id": "2f4f330e-cb5a-439a-a88d-49d475c8dfc5",
   "metadata": {},
   "source": [
    "## Ques4."
   ]
  },
  {
   "cell_type": "markdown",
   "id": "8e96a721-749b-4723-bf44-ff26c72fead9",
   "metadata": {},
   "source": [
    "Q4. What are getter and setter in python? Create a class and create a getter and a setter method in this\n",
    "class."
   ]
  },
  {
   "cell_type": "markdown",
   "id": "cf1493e3-9849-4247-83c9-6848a45b2356",
   "metadata": {},
   "source": [
    "Getters and setters are used to access private variables that cannot be accessed directly."
   ]
  },
  {
   "cell_type": "code",
   "execution_count": 57,
   "id": "44f059e6-6b74-4000-a606-d98d28b50da2",
   "metadata": {},
   "outputs": [
    {
     "name": "stdout",
     "output_type": "stream",
     "text": [
      "21\n"
     ]
    }
   ],
   "source": [
    "class age:\n",
    "    def __init__(self, age = 0):\n",
    "        self.__age = age\n",
    "        \n",
    "        \n",
    "    def get_age(self):\n",
    "        return self.__age\n",
    "        \n",
    "    def set_age(self,x):\n",
    "        self.__age = x\n",
    "    \n",
    "my_age = age()\n",
    "my_age.set_age(21)\n",
    "\n",
    "print(my_age.get_age())"
   ]
  },
  {
   "cell_type": "markdown",
   "id": "fa705e15-1f47-4b22-8617-72d27601ad7e",
   "metadata": {},
   "source": [
    "## Ques5."
   ]
  },
  {
   "cell_type": "markdown",
   "id": "21a7283a-fd26-46fc-8f6e-386492db1c64",
   "metadata": {},
   "source": [
    "Q5.What is method overriding in python? Write a python code to demonstrate method overriding."
   ]
  },
  {
   "cell_type": "markdown",
   "id": "2141c6dd-8d78-42a9-a914-d68a28cb4100",
   "metadata": {},
   "source": [
    "Method Overriding allows a child class to provide a specific implementation of a mehtod that is already provided by one of the parent classes. "
   ]
  },
  {
   "cell_type": "code",
   "execution_count": 58,
   "id": "d4fe5555-5fa2-423f-b002-948fa0631a02",
   "metadata": {},
   "outputs": [
    {
     "name": "stdout",
     "output_type": "stream",
     "text": [
      "The animal makes a sound.\n",
      "The dog barks.\n"
     ]
    }
   ],
   "source": [
    "class Animal:\n",
    "    def make_sound(self):\n",
    "        print(\"The animal makes a sound.\")\n",
    "\n",
    "class Dog(Animal):\n",
    "    def make_sound(self):\n",
    "        print(\"The dog barks.\")\n",
    "\n",
    "a = Animal()\n",
    "d = Dog()\n",
    "\n",
    "a.make_sound()  \n",
    "d.make_sound()"
   ]
  },
  {
   "cell_type": "code",
   "execution_count": null,
   "id": "20d224e0-a0b6-4bda-ae57-ca08a68d7796",
   "metadata": {},
   "outputs": [],
   "source": []
  },
  {
   "cell_type": "code",
   "execution_count": null,
   "id": "b0ba838c-3433-43da-96f0-78b48428be60",
   "metadata": {},
   "outputs": [],
   "source": []
  }
 ],
 "metadata": {
  "kernelspec": {
   "display_name": "Python 3 (ipykernel)",
   "language": "python",
   "name": "python3"
  },
  "language_info": {
   "codemirror_mode": {
    "name": "ipython",
    "version": 3
   },
   "file_extension": ".py",
   "mimetype": "text/x-python",
   "name": "python",
   "nbconvert_exporter": "python",
   "pygments_lexer": "ipython3",
   "version": "3.10.8"
  }
 },
 "nbformat": 4,
 "nbformat_minor": 5
}
