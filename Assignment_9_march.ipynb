{
 "cells": [
  {
   "cell_type": "markdown",
   "id": "c23e6865-d13d-469c-9d41-2c6e5b224294",
   "metadata": {},
   "source": [
    "## Ans1"
   ]
  },
  {
   "cell_type": "markdown",
   "id": "0ce56c53-35dd-47fc-b2b0-43641ccb257c",
   "metadata": {},
   "source": [
    "The Probability Mass Function (PMF) is a function that gives the probability of each possible value of a discrete random variable. It maps each value of the random variable to its probability of occurrenc<br>\n",
    "The Probability Density Function (PDF) is a function that gives the probability density of a continuous random variable. It describes the relative likelihood of different values of the continuous random variable, rather than the probability of specific values<br>\n",
    "\n",
    "\n",
    "\n",
    "P(X=1) = 1/6\n",
    "P(X=2) = 1/6\n",
    "P(X=3) = 1/6\n",
    "P(X=4) = 1/6\n",
    "P(X=5) = 1/6\n",
    "P(X=6) = 1/6\n",
    "\n",
    "This PMF tells us that the probability of rolling a 1, 2, 3, 4, 5, or 6 on a single roll of the die is each 1/6<br>\n",
    "\n",
    "\n",
    "\n",
    "For example, let's consider a continuous random variable X that follows a standard normal distribution. The PDF of X is:\n",
    "f(x) = (1/sqrt(2π)) * e^(-x^2/2)"
   ]
  },
  {
   "cell_type": "markdown",
   "id": "22e46e5d-ac53-4c0d-86f7-552bebe4ce58",
   "metadata": {},
   "source": [
    "## Ans2"
   ]
  },
  {
   "cell_type": "markdown",
   "id": "2ee9b791-cf0c-4929-a5b4-df27dcaaa338",
   "metadata": {},
   "source": [
    "The Cumulative Distribution Function (CDF) is a function that gives the probability that a random variable is less than or equal to a certain value<br>\n",
    "Example : Consider a random variable X that represents the weight of apples in a basket. Suppose that X follows a normal distribution with a mean of 300 grams and a standard deviation of 50 grams. The CDF of X can be written as:<br>\n",
    "\n",
    "F(x) = P(X ≤ x) = Φ((x-μ)/σ)<br>\n",
    "where Φ is the standard normal CDF, μ is the mean of the distribution (300 grams), and σ is the standard deviation (50 grams).<br>\n",
    "\n",
    "The CDF gives us the probability that a random variable X takes on a value less than or equal to x."
   ]
  },
  {
   "cell_type": "markdown",
   "id": "30c1c290-cd27-4e3a-8a6b-0c48944362f5",
   "metadata": {},
   "source": [
    "## Ans3"
   ]
  },
  {
   "cell_type": "markdown",
   "id": "e882a17b-722b-4c88-bc48-0caa8f5f717b",
   "metadata": {},
   "source": [
    "Some examples of situations where the normal distribution might be used as a model are:<br>\n",
    "Heights and weights of people in a population<br>\n",
    "Test scores on a standardized exam<br>\n",
    "Errors in a measurement process<br>\n",
    "IQ scores in a population<br>\n",
    "Reaction times in a task<br>\n",
    "Blood pressure levels in a population"
   ]
  },
  {
   "cell_type": "markdown",
   "id": "4a1ed240-4650-4c50-9564-2a97800d9a8d",
   "metadata": {},
   "source": [
    "The normal distribution is characterized by two parameters: the mean and the standard deviation. The mean represents the center of the distribution and the standard deviation represents the spread or width of the distribution.<br>\n",
    "If the mean of a normal distribution is shifted to the right or left, the entire distribution will shift in the same direction. If the standard deviation is increased, the distribution will become wider and flatter. If the standard deviation is decreased, the distribution will become narrower and talle"
   ]
  },
  {
   "cell_type": "markdown",
   "id": "0a0aae5b-bbf0-410b-b1ae-bedcf145190e",
   "metadata": {},
   "source": [
    "## Ans4"
   ]
  },
  {
   "cell_type": "markdown",
   "id": "ad8f2071-393e-4acc-824e-92d6a68f3066",
   "metadata": {},
   "source": [
    "Importance of Normal Distribution:<br>\n",
    "Wide Applicability: The Normal Distribution is a good model for many real-world phenomena because it occurs naturally in many physical, biological, and social systems. Many natural and man-made phenomena can be modeled using the Normal Distribution, making it a useful tool for scientists, engineers, and business professionals.\n",
    "\n",
    "Predictive Power: The Normal Distribution is a powerful tool for making predictions about real-world events, because it allows us to calculate the probability of various outcomes occurring. This makes it a useful tool in fields like finance, where risk management requires accurate predictions of market trends and investment outcomes.\n",
    "\n",
    "Statistical Inference: The Normal Distribution is a key tool in statistical inference, which involves using data to make inferences about a population. The Normal Distribution provides a framework for estimating population parameters from sample data, which is essential in many fields including medicine, engineering, and social sciences.\n",
    "\n",
    "\n",
    "\n",
    "A few real-life examples of Normal Distribution are:<br>\n",
    "Heights and weights of people in a population<br>\n",
    "IQ scores in a population<br>\n",
    "Blood pressure levels in a population<br>\n",
    "Test scores on a standardized exam<br>\n",
    "Reaction times in a task<br>\n",
    "The amount of rainfall in a region during a certain time period<br>\n",
    "The number of defects in a manufacturing process<br>\n",
    "The number of website visitors per day"
   ]
  },
  {
   "cell_type": "markdown",
   "id": "f50744d2-e739-4057-a988-cf5bd6393754",
   "metadata": {},
   "source": [
    "## Ans5"
   ]
  },
  {
   "cell_type": "markdown",
   "id": "10d3dc00-bdb5-4090-a8ac-4675576db9cf",
   "metadata": {},
   "source": [
    "The Bernoulli distribution is a discrete probability distribution that describes the probability of success or failure in a single trial of a binary experiment. it models the probability of an event that can have only two possible outcomes, such as flipping a coin or rolling a dice\n",
    "\n",
    "\n",
    "\n",
    "The main difference between the Bernoulli distribution and the binomial distribution is that the Bernoulli distribution models the probability of a single trial, while the binomial distribution models the probability of a series of independent trials. The binomial distribution describes the number of successes in a fixed number of trials."
   ]
  },
  {
   "cell_type": "markdown",
   "id": "e11c8643-6fef-4a78-a66b-4f423ca07475",
   "metadata": {},
   "source": [
    "## Ans6"
   ]
  },
  {
   "cell_type": "markdown",
   "id": "ed6b8802-724c-4a8e-995c-541306a5e839",
   "metadata": {},
   "source": [
    "Mean = 50, observation = 60 , Standard Deviation = 10<br>\n",
    "Formula = (Observation- Mean)/Standard Deviation<br>\n",
    "\n",
    "Standardizing the value = (60-50)/10 = 1<br>\n",
    "Using a standard normal distribution table, we can find that the area to the right of Z = 1 is approximately 0.1587<br>\n",
    "Therefore, the probability that a randomly selected observation from the dataset will be greater than 60 is approximately 0.1587 or 15.87%."
   ]
  },
  {
   "cell_type": "markdown",
   "id": "587f74b5-e44b-4540-8d68-20f48acebf79",
   "metadata": {},
   "source": [
    "## Ans7"
   ]
  },
  {
   "cell_type": "markdown",
   "id": "713c7c3a-cb08-40d6-9b59-128409e65686",
   "metadata": {},
   "source": [
    "The uniform distribution is a continuous probability distribution that models a situation where every value in a given range is equally likely to be observed.TThe probability density function (PDF) of a uniform distribution is constant over a specified interval and zero elsewhere.<br>\n",
    "For example, consider a spinner with equally spaced numbers from 1 to 6. The probability of the spinner landing on any of the numbers is equal and is represented by a uniform distribution. The interval in this case is from 1 to 6, and the PDF is constant within this interval and zero outside of it.<br>\n",
    "The probability density function (PDF) of a uniform distribution can be defined as:<br>\n",
    "f(x) = 1 / (b - a), for a <= x <= b<br>\n",
    "where a and b are the lower and upper bounds of the interval, respectively."
   ]
  },
  {
   "cell_type": "markdown",
   "id": "8b22ff08-d885-402d-aa33-9f8acb71b241",
   "metadata": {},
   "source": [
    "## Ans8"
   ]
  },
  {
   "cell_type": "markdown",
   "id": "815ab6b7-4852-404a-842e-0b4bed0a5c5f",
   "metadata": {},
   "source": [
    "Z-score is a statistical measure that indicates the number of standard deviations an observation or data point is from the mean of a distribution. It is used to standardize different variables with different units of measurement, making it possible to compare them on a common scale.<br>\n",
    "Formula =  (Observation- Mean)/Standard Deviation<br>\n",
    "The importance of the z-score lies in its ability to help us understand the relative location of an observation or data point in a distribution, regardless of the units of measurement used. Z-scores allow us to compare different observations or data points, even if they are measured on different scales or units."
   ]
  },
  {
   "cell_type": "markdown",
   "id": "a5748834-30cf-4ef3-9509-63af3936ac82",
   "metadata": {},
   "source": [
    "## Ans9"
   ]
  },
  {
   "cell_type": "markdown",
   "id": "9eb1f1a5-5d28-4fd9-88e3-5a239eaa3d6a",
   "metadata": {},
   "source": [
    "Central Limit Theorem states that the distribution of the sample means of a large number of independent and identically distributed random variables will tend towards a normal distribution, regardless of the underlying distribution of the individual variables, as long as the sample size is sufficiently large.<br>\n",
    "if we take multiple random samples of the same size from any population, then the mean of those samples will be approximately normally distributed, regardless of the shape of the original population distribution. The mean of the sample means will be equal to the population mean, and the standard deviation of the sample means will be equal to the standard deviation of the population divided by the square root of the sample size.<br>\n",
    "\n",
    "\n",
    "\n",
    "The CLT is widely used in hypothesis testing, confidence intervals, and other statistical methods. It also provides a basis for understanding the variability and uncertainty associated with sample means ."
   ]
  },
  {
   "cell_type": "markdown",
   "id": "80429b6a-101e-499c-ae1d-323fbfbf2fe9",
   "metadata": {},
   "source": [
    "## Ans10"
   ]
  },
  {
   "cell_type": "markdown",
   "id": "8c305487-6ee6-481c-9919-58ef8b331708",
   "metadata": {},
   "source": [
    "Independence: The samples drawn from the population should be independent of each other. Each observation should be sampled randomly and should not be related to any other observation.\n",
    "\n",
    "Sample size: The sample size should be sufficiently large. As a general guideline, the sample size should be at least 30 or more. However, for some non-normal distributions, a larger sample size may be required.\n",
    "\n",
    "Randomness: The samples should be selected randomly from the population. This means that each observation in the population should have an equal chance of being included in the sample.\n",
    "\n",
    "Finite variance: The population from which the samples are drawn should have a finite variance. If the variance of the population is infinite or undefined, then the CLT may not hold.\n"
   ]
  },
  {
   "cell_type": "code",
   "execution_count": null,
   "id": "fb1ae382-6ec8-49c3-b149-65090b9587ba",
   "metadata": {},
   "outputs": [],
   "source": []
  }
 ],
 "metadata": {
  "kernelspec": {
   "display_name": "Python 3 (ipykernel)",
   "language": "python",
   "name": "python3"
  },
  "language_info": {
   "codemirror_mode": {
    "name": "ipython",
    "version": 3
   },
   "file_extension": ".py",
   "mimetype": "text/x-python",
   "name": "python",
   "nbconvert_exporter": "python",
   "pygments_lexer": "ipython3",
   "version": "3.10.8"
  }
 },
 "nbformat": 4,
 "nbformat_minor": 5
}
